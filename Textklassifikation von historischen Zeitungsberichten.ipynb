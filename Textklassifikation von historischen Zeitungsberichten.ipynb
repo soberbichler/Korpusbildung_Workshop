{
 "cells": [
  {
   "cell_type": "markdown",
   "metadata": {},
   "source": [
    "# Korpuserstellung mit Hilfe von Genreklassifikation"
   ]
  },
  {
   "cell_type": "markdown",
   "metadata": {},
   "source": [
    "Unter Textklassifizierung versteht man den Prozess der Einteilung von Text in vordefinierte Gruppen. Durch den Einsatz von Natural Language Processing (NLP) Methoden können Textklassifizierer den Text automatisch analysieren und dann eine Reihe vorgegebener Kategorien zuweisen. Diese automatische Klassifizierung von Text in vordefinierte Kategorien ist eine wichtige Methode zur Verwaltung und Verarbeitung einer großen Anzahl von Zeitungsausschnitten. Dies gilt auch für Subkorpora zu einem bestimmten Forschungsthema (z.B. Migration). Das Ziel dieses Notebooks ist es, ein Modell mit Ihrem zuvor manuell erstellten Trainings-/Testkorpus zu trainieren und dieses Modell zu verwenden, um einen Überblick über die Kategorienverteilung in Ihrer Sammlung zu erhalten (siehe Abbildung unten). Ein weiteres Ziel ist es, Ihre kategorisierten Daten für weitere Analysen zu exportieren. So können Sie z. B. die Werbung zu einem bestimmten Thema untersuchen.\n",
    "\n",
    "Dieses Notebook klassifiziert Zeitungsartikel zum Thema \"Auswanderng\" in deutschsprachigen Zeitungen zwischen 1850 und 1950. Für den Trainings- und Testkorpus wurde eine Sammlung mit den Stichwörtern \"Auswander*\", \"Ausgewanderte\", \"Emigrant*\", \"Emigrierte\", \"Auswanderung\", \"Kolonist*\" und \"Ansiedler*\" erstellt. Dieser Trainingskorpus wurde manuell annotiert. \n",
    "\n",
    "Als Basis für die Klassifizierung dient ein Topic Modeling Modell. LDA bietet eine Möglichkeit, Dokumente nach Themen zu gruppieren, Ähnlichkeitssuchen durchzuführen und die Genauigkeit zu verbessern. Dank sklearn ist es relativ einfach, verschiedene Klassifikatoren für eine bestimmte thematische Klassifikationsaufgabe zu testen. Als binärer Klassifikator wurde die logistische Regression gewählt. \n",
    "\n",
    "*Die folgende Grafik zeigt die Verteilung der vordefinierten Kategorien in Zeitungsausschnitten ausgewählter österreichischer Zeitungen (Stichprobe von  Zeitungsausschnitten) zum Thema Auswanderung. \n",
    "\n",
    "![Collection on the topic of Emigration](images/circle.PNG)"
   ]
  },
  {
   "cell_type": "markdown",
   "metadata": {},
   "source": [
    "## Schritt für Schritt..\n",
    "* [Eine manuell annotierte Kollektion erstellen und importieren](#1-bullet)\n",
    "* [Pre-processing and die Bildung eines Trainings- und testkorpus](#2-bullet)\n",
    "* [LDA Modell trainieren](#3-bullet)\n",
    "* [Klassifier anwenden](#4-bullet)\n",
    "* [Modell am Testkorpus testen](#5-bullet)\n",
    "* [Anwendung des Klassifiers auf den gesamten Korpus](#6-bullet)\n",
    "* [Ergebnisse Visualisieren](#7-bullet)\n"
   ]
  },
  {
   "cell_type": "markdown",
   "metadata": {},
   "source": [
    "## Eine manuell annotierte Kollektion erstellen und importieren <a class=\"anchor\" id=\"1-bullet\"></a>\n",
    "\n",
    "Manuelle Annotationen sind wesentlich für die Klassifizierung. Deshalb wird eine Kollektion vorbereitet, die 80 bis 100 Artikeln pro Kategorie umfasst. Um diese Sammlung zu erstellen, wurden den Artikeln die Nummern 0 bis 7 zugewiesen, wobei jede Nummer für eine Zeitungskategorie steht: \n",
    "\n",
    "\n",
    "0 = Werbung, Spendenaufrufe und Informationen\n",
    " \n",
    "1 = Nachrichten und Kultur\n",
    "\n",
    "4 = Kriminalität\n",
    "\n",
    "6 = Finanzen\n",
    "\n",
    "7 = Statistik\n",
    "\n",
    "Wenn Sie Ihre eigene Sammlung erstellen, achten Sie darauf, dass Sie eine repräsentative Sammlung für das gesamte Suchergebnis erstellen. Wenn Sie einen langen Zeitraum verwenden, stellen Sie sicher, dass alle Zeitabschnitte in Ihrer kleinen Sammlung vertreten sind. "
   ]
  },
  {
   "cell_type": "code",
   "execution_count": 1,
   "metadata": {},
   "outputs": [
    {
     "name": "stdout",
     "output_type": "stream",
     "text": [
      "(698, 7)\n"
     ]
    },
    {
     "data": {
      "text/html": [
       "<div>\n",
       "<style scoped>\n",
       "    .dataframe tbody tr th:only-of-type {\n",
       "        vertical-align: middle;\n",
       "    }\n",
       "\n",
       "    .dataframe tbody tr th {\n",
       "        vertical-align: top;\n",
       "    }\n",
       "\n",
       "    .dataframe thead th {\n",
       "        text-align: right;\n",
       "    }\n",
       "</style>\n",
       "<table border=\"1\" class=\"dataframe\">\n",
       "  <thead>\n",
       "    <tr style=\"text-align: right;\">\n",
       "      <th></th>\n",
       "      <th>id</th>\n",
       "      <th>language</th>\n",
       "      <th>date</th>\n",
       "      <th>newspaper_id</th>\n",
       "      <th>iiif_url</th>\n",
       "      <th>relevancy</th>\n",
       "      <th>text</th>\n",
       "    </tr>\n",
       "  </thead>\n",
       "  <tbody>\n",
       "    <tr>\n",
       "      <th>0</th>\n",
       "      <td>illustrierte_kronen_zeitung_krz19110626_articl...</td>\n",
       "      <td>de</td>\n",
       "      <td>1911-06-26T00:00:00Z</td>\n",
       "      <td>illustrierte_kronen_zeitung</td>\n",
       "      <td>https://platform.newseye.eu/iiif/illustrierte_...</td>\n",
       "      <td>0</td>\n",
       "      <td>Blumenjunge, Meidling. Sie erhalten jetzt\\nim ...</td>\n",
       "    </tr>\n",
       "    <tr>\n",
       "      <th>1</th>\n",
       "      <td>illustrierte_kronen_zeitung_krz19110403_articl...</td>\n",
       "      <td>de</td>\n",
       "      <td>1911-04-03T00:00:00Z</td>\n",
       "      <td>illustrierte_kronen_zeitung</td>\n",
       "      <td>https://platform.newseye.eu/iiif/illustrierte_...</td>\n",
       "      <td>0</td>\n",
       "      <td>Wien—Amerika, Zentagasse. Vor der Auswanderung...</td>\n",
       "    </tr>\n",
       "    <tr>\n",
       "      <th>2</th>\n",
       "      <td>illustrierte_kronen_zeitung_krz19111027_articl...</td>\n",
       "      <td>de</td>\n",
       "      <td>1911-10-27T00:00:00Z</td>\n",
       "      <td>illustrierte_kronen_zeitung</td>\n",
       "      <td>https://platform.newseye.eu/iiif/illustrierte_...</td>\n",
       "      <td>0</td>\n",
       "      <td>Auskünfte.\\n Kolonie 1000, Viktor\\nM. Wenden S...</td>\n",
       "    </tr>\n",
       "  </tbody>\n",
       "</table>\n",
       "</div>"
      ],
      "text/plain": [
       "                                                  id language  \\\n",
       "0  illustrierte_kronen_zeitung_krz19110626_articl...       de   \n",
       "1  illustrierte_kronen_zeitung_krz19110403_articl...       de   \n",
       "2  illustrierte_kronen_zeitung_krz19111027_articl...       de   \n",
       "\n",
       "                   date                 newspaper_id  \\\n",
       "0  1911-06-26T00:00:00Z  illustrierte_kronen_zeitung   \n",
       "1  1911-04-03T00:00:00Z  illustrierte_kronen_zeitung   \n",
       "2  1911-10-27T00:00:00Z  illustrierte_kronen_zeitung   \n",
       "\n",
       "                                            iiif_url  relevancy  \\\n",
       "0  https://platform.newseye.eu/iiif/illustrierte_...          0   \n",
       "1  https://platform.newseye.eu/iiif/illustrierte_...          0   \n",
       "2  https://platform.newseye.eu/iiif/illustrierte_...          0   \n",
       "\n",
       "                                                text  \n",
       "0  Blumenjunge, Meidling. Sie erhalten jetzt\\nim ...  \n",
       "1  Wien—Amerika, Zentagasse. Vor der Auswanderung...  \n",
       "2  Auskünfte.\\n Kolonie 1000, Viktor\\nM. Wenden S...  "
      ]
     },
     "execution_count": 1,
     "metadata": {},
     "output_type": "execute_result"
    }
   ],
   "source": [
    "# more common imports\n",
    "import pandas as pd\n",
    "import numpy as np\n",
    "from collections import Counter\n",
    "import re\n",
    "import sys\n",
    "import time\n",
    "pd.set_option('mode.chained_assignment', None)\n",
    "\n",
    "df = pd.read_csv('export_classification_emigration_new_06_07_2020_23_15 - Copy.csv')\n",
    "\n",
    "print(df.shape)\n",
    "df.head(3)"
   ]
  },
  {
   "cell_type": "code",
   "execution_count": 2,
   "metadata": {},
   "outputs": [
    {
     "data": {
      "text/plain": [
       "<matplotlib.axes._subplots.AxesSubplot at 0x297782ecc48>"
      ]
     },
     "execution_count": 2,
     "metadata": {},
     "output_type": "execute_result"
    },
    {
     "data": {
      "image/png": "[encoded data removed]",
      "text/plain": [
       "<Figure size 432x288 with 1 Axes>"
      ]
     },
     "metadata": {
      "needs_background": "light"
     },
     "output_type": "display_data"
    }
   ],
   "source": [
    "from IPython.display import display\n",
    "import seaborn as sns\n",
    "import matplotlib.pyplot as plt\n",
    "import matplotlib.image as mpimg\n",
    "import base64\n",
    "import io\n",
    "%matplotlib inline\n",
    "import matplotlib.pyplot as plt\n",
    "df.relevancy.value_counts().plot(kind='bar')"
   ]
  },
  {
   "cell_type": "markdown",
   "metadata": {},
   "source": [
    "## Pre-processing and die Bildung eines Trainings- und testkorpus) <a class=\"anchor\" id=\"2-bullet\"></a>"
   ]
  },
  {
   "cell_type": "markdown",
   "metadata": {},
   "source": [
    "##### Reinigen, tokenisieren und stemmen"
   ]
  },
  {
   "cell_type": "markdown",
   "metadata": {},
   "source": [
    "Bevor Textmining Methoden angewendet werden können, muss der Text bereinigt(Interpunktion wird entfernt, alle Wörter werden kleingeschrieben), und tokenisiert (der Text wird in einzelne sprachliche Einheiten zerlegt) werden. Außerdem werden Stoppwörter entfernt und die Token gestemmt (flektierte Wörter auf ihren Wortstamm reduziert). Das Pre-Processing ist wichtig, da Interpunktion oder Sonderzeichen für die weitere Analyse in der Regel nicht benötigt werden. Das Gleiche gilt für Wörter wie *und*, *oder*, *mit* und ähnliche, die nicht als wichtiger Kontext betrachtet werden können. Aus diesem Grund werden wir im nächsten Schritt nur jene Wörter beibehalten, die eine Unterschiedung von relevanten und nicht-relevanten Kontexten ermöglichen.\n",
    "\n",
    "Ein weiterer Pre-Processing Schritt, der angewendet werden könnte, ist die Lemmatisierung (Umwandlung von Wörtern in ihre Lemmaform/Lexeme). In diesem Notebook wird jedoch ein deutschsprachigen Stemmer verwendet, da dieser weniger Verarbeitungsaufwand erfordert (kein Part-of-Speech-Tagging erforderlich). Wir haben jedoch die Liste der deutschen Stoppwörter aus dem NLTK-Paket erweitert. Eine längere Liste mit deutschen Stoppwörtern wurde von https://countwordsfree.com/stopwords/german abgerufen und der bestehenden Datei hinzugefügt."
   ]
  },
  {
   "cell_type": "code",
   "execution_count": 3,
   "metadata": {},
   "outputs": [
    {
     "name": "stderr",
     "output_type": "stream",
     "text": [
      "[nltk_data] Downloading package stopwords to\n",
      "[nltk_data]     C:\\Users\\c62255\\AppData\\Roaming\\nltk_data...\n",
      "[nltk_data]   Package stopwords is already up-to-date!\n",
      "[nltk_data] Downloading package punkt to\n",
      "[nltk_data]     C:\\Users\\c62255\\AppData\\Roaming\\nltk_data...\n",
      "[nltk_data]   Package punkt is already up-to-date!\n"
     ]
    }
   ],
   "source": [
    "import nltk\n",
    "from nltk.corpus import stopwords\n",
    "from nltk.stem.snowball import SnowballStemmer\n",
    "import spacy\n",
    "\n",
    "# Functions to clean, tokenize, and lemmatize the data\n",
    "def initial_clean(text):\n",
    "    text = re.sub(r'[^\\w\\s]','',text)\n",
    "    text = text.lower() \n",
    "    text = nltk.word_tokenize(text)\n",
    "    return text\n",
    "\n",
    "nltk.download('stopwords')\n",
    "nltk.download('punkt')\n",
    "\n",
    "stop_words = stopwords.words('german')#change the language here\n",
    "# add your onw stop words\n",
    "stop_words.extend(['auswanderer', 'auswanderung', 'auswanderern'])\n",
    "def remove_stop_words(text):\n",
    "    return [word for word in text if word not in stop_words]\n",
    "\n",
    "stemmer = SnowballStemmer(\"german\")\n",
    "def stem_words(text):\n",
    "    try:\n",
    "        text = [stemmer.stem(word) for word in text]\n",
    "        text = [word for word in text if len(word) > 1] \n",
    "    except IndexError: \n",
    "        pass\n",
    "    return text\n",
    "\n",
    "def apply_all(text):\n",
    "    return stem_words(remove_stop_words(initial_clean(text)))\n",
    "\n",
    "df['tokenized'] = df['text'].apply(apply_all) "
   ]
  },
  {
   "cell_type": "markdown",
   "metadata": {},
   "source": [
    "In einem weiteren Schritt wird die Sammlung in ein Trainings- und Testkorpus zu unterteilt. Damit erhalten wir eine Reihe von Dokumenten (Trainingskorpus), um den Algorithmus zu trainieren, und eine Reihe von Dokumenten (Testkorpus), um die Effizienz der gewählten Methoden zu testen."
   ]
  },
  {
   "cell_type": "markdown",
   "metadata": {},
   "source": [
    "##### Training- und Testkorpus"
   ]
  },
  {
   "cell_type": "markdown",
   "metadata": {},
   "source": [
    "Um die Sammlung in ein Trainings- und ein Testkorpus aufzuteilen, wird die Funktion numpy.random.rand() verwendet, um ein Array mit einer bestimmten Form zu erstellen und es mit Zufallswerten zu füllen. Dies ermöglichte es, eine gute Mischung aus relevanten und nicht relevanten Artikeln in jedem der Korpora zu erhalten (Abbildung 2). Da diese Funktion auf dem Zufallsprinzip beruht und die Aufteilung der Korpora bei jedem Aufruf variieren kann, wurde ein Zufallswert gesetzt, um reproduzierbare Aufrufe zu erzeugen. Folglich sind alle Zufallszahlen, die nach dem Setzen des Seeds erzeugt werden, auf jeder Maschine gleich."
   ]
  },
  {
   "cell_type": "code",
   "execution_count": 4,
   "metadata": {},
   "outputs": [],
   "source": [
    "# create a mask of binary values\n",
    "#7979\n",
    "#7989\n",
    "np.random.seed(9989)\n",
    "msk = np.random.rand(len(df)) < 0.850"
   ]
  },
  {
   "cell_type": "code",
   "execution_count": 5,
   "metadata": {},
   "outputs": [],
   "source": [
    "train_df = df[msk]\n",
    "train_df.reset_index(drop=True,inplace=True)\n",
    "\n",
    "test_df = df[~msk]\n",
    "test_df.reset_index(drop=True,inplace=True)"
   ]
  },
  {
   "cell_type": "code",
   "execution_count": 6,
   "metadata": {},
   "outputs": [
    {
     "name": "stdout",
     "output_type": "stream",
     "text": [
      "698 599 99\n"
     ]
    }
   ],
   "source": [
    "print(len(df),len(train_df),len(test_df))"
   ]
  },
  {
   "cell_type": "code",
   "execution_count": 7,
   "metadata": {},
   "outputs": [
    {
     "data": {
      "image/png": "[encoded data removed]",
      "text/plain": [
       "<Figure size 720x216 with 2 Axes>"
      ]
     },
     "metadata": {
      "needs_background": "light"
     },
     "output_type": "display_data"
    }
   ],
   "source": [
    "val = train_df.relevancy.value_counts().min()\n",
    "train_df = train_df.groupby('relevancy').head(val)\n",
    "val_2 = test_df.relevancy.value_counts().min()\n",
    "test_df = test_df.groupby('relevancy').head(val_2)\n",
    "#plot the result\n",
    "my_colors = [(0.20,0.200,0.50), (0.100, 0.75, 0.200),(0.30,0.500,0.70), (0.70,0.20,0.80), (0.82,0.200,0.50), (0.20,0.200,0.50)] #set colors\n",
    "fig, axes = plt.subplots(1,2,figsize=(10,3))\n",
    "test_df.relevancy.value_counts().plot(kind='bar', color = (0.100, 0.75, 0.20), ax=axes[1])\n",
    "test_df.relevancy.value_counts().plot(kind='bar', color = my_colors, ax=axes[1])\n",
    "train_df.relevancy.value_counts().plot(kind='bar', color = (0.100, 0.75, 0.20), ax=axes[0])\n",
    "train_df.relevancy.value_counts().plot(kind='bar', color = my_colors, ax=axes[0])\n",
    "axes[1].title.set_text('Test Corpus')\n",
    "axes[0].title.set_text('Training Corpus')\n"
   ]
  },
  {
   "cell_type": "markdown",
   "metadata": {},
   "source": [
    "## LDA Modell trainieren <a class=\"anchor\" id=\"3-bullet\"></a>\n",
    "\n",
    "Topic Modelle beruhen auf der Annahme, dass Texten in natürlicher Sprache eine relativ kleine Menge latenter oder verborgener Themen zugrunde liegt, wobei ein Wort zu mehreren Themen gehören kann. Themenmodelle verwenden die so genannte Bag-of-Words-Annahme innerhalb eines Dokuments bzw. sie gruppieren statistisch signifikante Wörter innerhalb eines bestimmten Korpus. Wie von (Blei, Ng und Jordan 2003) beschrieben, können Dokumente \"als zufällige Mischungen über latente Themen dargestellt werden, wobei jedes Thema durch eine Verteilung über Wörter charakterisiert ist\". Die Themenmodellierung wird für verschiedene Zwecke eingesetzt: um einen Koprpus besser zu verstehen (Zosa et al. 2020), um Diskursdynamik zu erfassen (Marjanen et al. 2020), um einen besseren Einblick in die Art oder das Genre von Dokumenten in einem Korpus zu erhalten (Oberbichler 2021), um die Entwicklung von Themen und Trends in mehrsprachigen Sammlungen zu erfassen (Zosa und Granroth-Wilding 2019) oder um verschiedene Korpora zu vergleichen (Lu, Henchion und Namee 2019).\n",
    "\n",
    "Jeder dieser Anwendungsbereiche benötigt unterschiedliche Parameter. Während Methoden zur automatischen Bestimmung der Themenanzahl in einigen Fällen hilfreich sein können (Zhao et al. 2015) (O'Callaghan et al. 2015), ist das genaue Lesen einer beträchtlichen Menge von Dokumenten nach wie vor am zuverlässigsten.\n",
    "\n",
    "Wir verwenden hier die Python-Library Gensim, um die Topic Modelle zu trainieren. Gensim ist eine Bibliothek, die für die Themenmodellierung, die Dokumentenindexierung als auch die Ähnlichkeitssuche verwendet wird. Alle Algorithmen sind speicher- und sprachunabhängig sowie unüberwacht, was bedeutet, dass keine menschliche Eingabe erforderlich ist."
   ]
  },
  {
   "cell_type": "code",
   "execution_count": 8,
   "metadata": {},
   "outputs": [
    {
     "name": "stderr",
     "output_type": "stream",
     "text": [
      "C:\\Users\\c62255\\AppData\\Roaming\\Python\\Python37\\site-packages\\gensim\\similarities\\__init__.py:15: UserWarning: The gensim.similarities.levenshtein submodule is disabled, because the optional Levenshtein package <https://pypi.org/project/python-Levenshtein/> is unavailable. Install Levenhstein (e.g. `pip install python-Levenshtein`) to suppress this warning.\n",
      "  warnings.warn(msg)\n"
     ]
    },
    {
     "data": {
      "text/plain": [
       "[('vermog', 0.038262255),\n",
       " ('ausland', 0.026925985),\n",
       " ('steh', 0.025516603),\n",
       " ('vorschrift', 0.025514081),\n",
       " ('freiheit', 0.025512561),\n",
       " ('viertel', 0.0215812),\n",
       " ('verfug', 0.015846413),\n",
       " ('neu', 0.013474374),\n",
       " ('deutsch', 0.013271546),\n",
       " ('erfahr', 0.012770946),\n",
       " ('streng', 0.012770918),\n",
       " ('wert', 0.012770913),\n",
       " ('erich', 0.012770913),\n",
       " ('grosstmog', 0.012770913),\n",
       " ('hemmt', 0.012770913),\n",
       " ('hemmungslos', 0.012770913),\n",
       " ('kapitalsflucht', 0.012770913),\n",
       " ('hinsicht', 0.012770913),\n",
       " ('bank', 0.012770913),\n",
       " ('lungwitz', 0.012770913)]"
      ]
     },
     "execution_count": 8,
     "metadata": {},
     "output_type": "execute_result"
    }
   ],
   "source": [
    "import gensim\n",
    "from gensim.corpora import Dictionary\n",
    "import gensim, spacy, logging, warnings\n",
    "import gensim.corpora as corpora\n",
    "from gensim.models import CoherenceModel\n",
    "from nltk.corpus import stopwords\n",
    "from gensim.models import LdaModel\n",
    "\n",
    "dictionary = corpora.Dictionary(train_df['tokenized'])\n",
    "\n",
    "#Make a BOW for every document (Bag of words)\n",
    "def document_to_bow(df):\n",
    "    train_df['bow'] = list(map(lambda doc: dictionary.doc2bow(doc), train_df['tokenized']))\n",
    "    \n",
    "document_to_bow(train_df)\n",
    "\n",
    "corpus = train_df.bow\n",
    "\n",
    "def train_lda(data):\n",
    "    num_topics = 500\n",
    "    lda = LdaModel(corpus=corpus, num_topics=num_topics, id2word=dictionary,\n",
    "                    minimum_probability=0.0, passes=50, iterations=500, per_word_topics=True)\n",
    "    return dictionary,corpus,lda\n",
    "\n",
    "dictionary,corpus,lda = train_lda(train_df)\n",
    "\n",
    "lda.show_topic(topicid=0, topn=20)"
   ]
  },
  {
   "cell_type": "markdown",
   "metadata": {},
   "source": [
    "## Klassifier anwenden <a class=\"anchor\" id=\"4-bullet\"></a>"
   ]
  },
  {
   "cell_type": "markdown",
   "metadata": {},
   "source": [
    "##### Numerische Darstellung der Topicverteilungen"
   ]
  },
  {
   "cell_type": "markdown",
   "metadata": {},
   "source": [
    "Viele Algorithmen im Bereich des maschinellen Lernens erfordern eine numerische Darstellung von Objekten, da solche Darstellungen die Verarbeitung und statistische Analyse erleichtern."
   ]
  },
  {
   "cell_type": "code",
   "execution_count": 9,
   "metadata": {},
   "outputs": [],
   "source": [
    "def document_to_lda_features(lda, document):\n",
    "    \"\"\" Transforms a bag of words document to features.\n",
    "    It returns the proportion of how much each topic was\n",
    "    present in the document.\n",
    "    \"\"\"\n",
    "    topic_importances = lda.get_document_topics(document, minimum_probability=0)\n",
    "    topic_importances = np.array(topic_importances)\n",
    "    return topic_importances[:,1]\n",
    "\n",
    "train_df['lda_features'] = list(map(lambda doc:\n",
    "                                      document_to_lda_features(lda, doc),\n",
    "                                      train_df.bow))"
   ]
  },
  {
   "cell_type": "code",
   "execution_count": 10,
   "metadata": {},
   "outputs": [
    {
     "name": "stdout",
     "output_type": "stream",
     "text": [
      "Auszug aus der Kategorie: Werbung, Spendenaufrufe und Informationen\n",
      "[0.0002008  0.0002008  0.00149593 0.0002008  0.0002008  0.0002008\n",
      " 0.0002008  0.0002008  0.00506548 0.0002008  0.0002008  0.0002008\n",
      " 0.0002008  0.0002008  0.01301242]\n"
     ]
    }
   ],
   "source": [
    "ads_topic_distribution = train_df.loc[train_df.relevancy == 0, 'lda_features'].mean()\n",
    "news_topic_distribution = train_df.loc[train_df.relevancy == 1, 'lda_features'].mean()\n",
    "crime_topic_distribution = train_df.loc[train_df.relevancy == 4, 'lda_features'].mean()\n",
    "finances_topic_distribution = train_df.loc[train_df.relevancy == 6, 'lda_features'].mean()\n",
    "statistic_topic_distribution = train_df.loc[train_df.relevancy == 7, 'lda_features'].mean()\n",
    "print('Auszug aus der Kategorie: Werbung, Spendenaufrufe und Informationen')\n",
    "print(ads_topic_distribution[0:15])"
   ]
  },
  {
   "cell_type": "markdown",
   "metadata": {},
   "source": [
    "##### Wörter, die die die einzelnen Kategorien repräsentieren"
   ]
  },
  {
   "cell_type": "code",
   "execution_count": 11,
   "metadata": {},
   "outputs": [
    {
     "name": "stdout",
     "output_type": "stream",
     "text": [
      "Top Wörter dominater Topics für die Kategorie: Werbung, Spendenaufrufe und Informationen\n",
      "Für das Topic 47, lauten die Top Wörter: auskunftskal, teil, briefmark, zugeschickt, portofrei.\n",
      "Für das Topic 191, lauten die Top Wörter: weg, verkauf, nah, brief, billig.\n",
      "Für das Topic 226, lauten die Top Wörter: arm, word, ruman, spend, morgenblatt.\n",
      "Für das Topic 431, lauten die Top Wörter: einsend, auskunftsstell, les, erhalt, pass.\n",
      "Für das Topic 451, lauten die Top Wörter: bez, beim, wien, erhalt, neu.\n",
      "\n",
      "Top Wörter dominater Topics für die Kategorie: Nachrichten und Kultur\n",
      "Für das Topic 84, lauten die Top Wörter: dr, frank, gustav, edmund, uhr.\n",
      "Für das Topic 238, lauten die Top Wörter: word, paris, brot, mehr, imm.\n",
      "Für das Topic 420, lauten die Top Wörter: klass, erst, geht, soldat, angenehm.\n",
      "Für das Topic 463, lauten die Top Wörter: armen, grenz, eriwan, turkei, zuruckkehr.\n",
      "Für das Topic 469, lauten die Top Wörter: fahrt, newyork, italien, versenkt, osterreichischungar.\n",
      "\n",
      "Top Wörter dominater Topics für die Kategorie: Kriminalität\n",
      "Für das Topic 32, lauten die Top Wörter: gendarm, stellungspflicht, wurd, verhaft, gross.\n",
      "Für das Topic 42, lauten die Top Wörter: wurd, gest, agent, militarpflicht, samstag.\n",
      "Für das Topic 103, lauten die Top Wörter: verhaftet, freien, press, verdacht, neu.\n",
      "Für das Topic 308, lauten die Top Wörter: hollandamerikalini, angestellt, betrog, angehor, gesellschaft.\n",
      "Für das Topic 377, lauten die Top Wörter: kron, montag, ganz, geld, gepack.\n",
      "\n",
      "Top Wörter dominater Topics für die Kategorie: Finanzen\n",
      "Für das Topic 121, lauten die Top Wörter: berlin, guthab, wertpapi, auswandererguthab, devisenrecht.\n",
      "Für das Topic 136, lauten die Top Wörter: bewill, auswandererguthab, erteilt, bewilligt, abtret.\n",
      "Für das Topic 250, lauten die Top Wörter: deutsch, inland, ausland, bond, wertpapi.\n",
      "Für das Topic 295, lauten die Top Wörter: ausland, muss, deutsch, mark, ernahr.\n",
      "Für das Topic 472, lauten die Top Wörter: jud, ausland, kultusgemeind, abschnitt, 1935.\n",
      "\n",
      "Top Wörter dominater Topics für die Kategorie: Statistik\n",
      "Für das Topic 34, lauten die Top Wörter: jahr, 1937, person, 1936, ausgewandert.\n",
      "Für das Topic 228, lauten die Top Wörter: vorjahr, ruckgang, erst, oesterreich, zahl.\n",
      "Für das Topic 269, lauten die Top Wörter: 25, land, person, aussereuropa, insgesamt.\n",
      "Für das Topic 455, lauten die Top Wörter: oesterreich, gegenub, rund, prozent, seel.\n",
      "Für das Topic 491, lauten die Top Wörter: zahl, oktob, osterreich, nordamerika, reis.\n",
      "\n"
     ]
    }
   ],
   "source": [
    "def get_topic_top_words(lda_model, topic_id, nr_top_words=5):\n",
    "    \"\"\" Returns the top words for topic_id from lda_model.\n",
    "    \"\"\"\n",
    "    id_tuples = lda_model.get_topic_terms(topic_id, topn=nr_top_words)\n",
    "    word_ids = np.array(id_tuples)[:,0]\n",
    "    words = map(lambda id_: lda_model.id2word[id_], word_ids)\n",
    "    return words\n",
    "for relevancy, distribution in zip(['Werbung, Spendenaufrufe und Informationen', 'Nachrichten und Kultur', 'Kriminalität', 'Finanzen', 'Statistik'], [ads_topic_distribution, news_topic_distribution, crime_topic_distribution, finances_topic_distribution, statistic_topic_distribution]):\n",
    "    print(\"Top Wörter dominater Topics für die Kategorie: {}\".format(relevancy))\n",
    "    for x in sorted(np.argsort(distribution)[-5:]):\n",
    "        top_words = get_topic_top_words(lda, x)\n",
    "        print(\"Für das Topic {}, lauten die Top Wörter: {}.\".format(x, \", \".join(top_words)))\n",
    "    print(\"\")"
   ]
  },
  {
   "cell_type": "markdown",
   "metadata": {},
   "source": [
    "##### Klassifier Modell  trainieren \n",
    "Nachdem die Dokumente in Daten umgewandelt wurden, ist es wichtig, einige kontrollierte Klassifikatoren anzuwenden, um vorhersagen zu können, welcher Text zu welcher Kategorie gehört."
   ]
  },
  {
   "cell_type": "code",
   "execution_count": 12,
   "metadata": {},
   "outputs": [],
   "source": [
    "from gensim.models.ldamulticore import LdaMulticore\n",
    "from sklearn.ensemble import RandomForestClassifier, AdaBoostClassifier\n",
    "from sklearn.linear_model import LogisticRegression\n",
    "\n",
    "def get_cross_validated_model(model, param_grid, X, y, nr_folds=6):\n",
    "    # train the model (since the evaluation is based on the logloss, we'll use neg_log_loss here)\n",
    "    grid_cv = GridSearchCV(model, param_grid=param_grid, scoring='neg_log_loss', cv=nr_folds, n_jobs=-1, verbose=True)\n",
    "    best_model = grid_cv.fit(X, y)\n",
    "    # show top models with parameter values\n",
    "    result_df = pd.DataFrame(best_model.cv_results_)\n",
    "    show_columns = ['mean_test_score', 'rank_test_score']\n",
    "    for col in result_df.columns:\n",
    "        if col.startswith('param_'):\n",
    "            show_columns.append(col)\n",
    "    display(result_df[show_columns].sort_values(by='rank_test_score').head())\n",
    "    return best_model\n",
    "# we first have to transform every entry\n",
    "X_train_lda = np.array(list(map(np.array, train_df.lda_features)))\n"
   ]
  },
  {
   "cell_type": "markdown",
   "metadata": {},
   "source": [
    "## Modell am Testkorpus testen  <a class=\"anchor\" id=\"5-bullet\"></a>"
   ]
  },
  {
   "cell_type": "code",
   "execution_count": 13,
   "metadata": {},
   "outputs": [
    {
     "data": {
      "text/html": [
       "<div>\n",
       "<style scoped>\n",
       "    .dataframe tbody tr th:only-of-type {\n",
       "        vertical-align: middle;\n",
       "    }\n",
       "\n",
       "    .dataframe tbody tr th {\n",
       "        vertical-align: top;\n",
       "    }\n",
       "\n",
       "    .dataframe thead th {\n",
       "        text-align: right;\n",
       "    }\n",
       "</style>\n",
       "<table border=\"1\" class=\"dataframe\">\n",
       "  <thead>\n",
       "    <tr style=\"text-align: right;\">\n",
       "      <th></th>\n",
       "      <th>id</th>\n",
       "      <th>language</th>\n",
       "      <th>date</th>\n",
       "      <th>newspaper_id</th>\n",
       "      <th>iiif_url</th>\n",
       "      <th>relevancy</th>\n",
       "      <th>text</th>\n",
       "      <th>tokenized</th>\n",
       "    </tr>\n",
       "  </thead>\n",
       "  <tbody>\n",
       "    <tr>\n",
       "      <th>0</th>\n",
       "      <td>illustrierte_kronen_zeitung_krz19110826_articl...</td>\n",
       "      <td>de</td>\n",
       "      <td>1911-08-26T00:00:00Z</td>\n",
       "      <td>illustrierte_kronen_zeitung</td>\n",
       "      <td>https://platform.newseye.eu/iiif/illustrierte_...</td>\n",
       "      <td>0</td>\n",
       "      <td>Laura, Siemensstraße.\\nSie können die Auswande...</td>\n",
       "      <td>[laura, siemensstrass, auswanderungsbewill, er...</td>\n",
       "    </tr>\n",
       "    <tr>\n",
       "      <th>1</th>\n",
       "      <td>illustrierte_kronen_zeitung_krz19130623_articl...</td>\n",
       "      <td>de</td>\n",
       "      <td>1913-06-23T00:00:00Z</td>\n",
       "      <td>illustrierte_kronen_zeitung</td>\n",
       "      <td>https://platform.newseye.eu/iiif/illustrierte_...</td>\n",
       "      <td>0</td>\n",
       "      <td>Amerika, Volkertplatz. Lesen Sie den ausführli...</td>\n",
       "      <td>[amerika, volkertplatz, les, ausfuhr, artikel,...</td>\n",
       "    </tr>\n",
       "    <tr>\n",
       "      <th>2</th>\n",
       "      <td>illustrierte_kronen_zeitung_krz19120214_articl...</td>\n",
       "      <td>de</td>\n",
       "      <td>1912-02-14T00:00:00Z</td>\n",
       "      <td>illustrierte_kronen_zeitung</td>\n",
       "      <td>https://platform.newseye.eu/iiif/illustrierte_...</td>\n",
       "      <td>0</td>\n",
       "      <td>Zmsktünftr.\\nEifriger Leser, Leopoldauerplatz,...</td>\n",
       "      <td>[zmsktunftr, eifrig, les, leopoldauerplatz, be...</td>\n",
       "    </tr>\n",
       "    <tr>\n",
       "      <th>3</th>\n",
       "      <td>illustrierte_kronen_zeitung_krz19130305_articl...</td>\n",
       "      <td>de</td>\n",
       "      <td>1913-03-05T00:00:00Z</td>\n",
       "      <td>illustrierte_kronen_zeitung</td>\n",
       "      <td>https://platform.newseye.eu/iiif/illustrierte_...</td>\n",
       "      <td>0</td>\n",
       "      <td>J. F., Heumühlgasse.\\nPesen Sie die Artikel\\n...</td>\n",
       "      <td>[heumuhlgass, pes, artikel, amerikareis, ausku...</td>\n",
       "    </tr>\n",
       "    <tr>\n",
       "      <th>4</th>\n",
       "      <td>arbeiter_zeitung_aze19130403_article_268</td>\n",
       "      <td>de</td>\n",
       "      <td>1913-04-03T00:00:00Z</td>\n",
       "      <td>arbeiter_zeitung</td>\n",
       "      <td>https://platform.newseye.eu/iiif/arbeiter_zeit...</td>\n",
       "      <td>6</td>\n",
       "      <td>Volkswirtschaft.\\nSchutz der Auswanderer oder ...</td>\n",
       "      <td>[volkswirtschaft, schutz, vermehr, lohndruck, ...</td>\n",
       "    </tr>\n",
       "  </tbody>\n",
       "</table>\n",
       "</div>"
      ],
      "text/plain": [
       "                                                  id language  \\\n",
       "0  illustrierte_kronen_zeitung_krz19110826_articl...       de   \n",
       "1  illustrierte_kronen_zeitung_krz19130623_articl...       de   \n",
       "2  illustrierte_kronen_zeitung_krz19120214_articl...       de   \n",
       "3  illustrierte_kronen_zeitung_krz19130305_articl...       de   \n",
       "4           arbeiter_zeitung_aze19130403_article_268       de   \n",
       "\n",
       "                   date                 newspaper_id  \\\n",
       "0  1911-08-26T00:00:00Z  illustrierte_kronen_zeitung   \n",
       "1  1913-06-23T00:00:00Z  illustrierte_kronen_zeitung   \n",
       "2  1912-02-14T00:00:00Z  illustrierte_kronen_zeitung   \n",
       "3  1913-03-05T00:00:00Z  illustrierte_kronen_zeitung   \n",
       "4  1913-04-03T00:00:00Z             arbeiter_zeitung   \n",
       "\n",
       "                                            iiif_url  relevancy  \\\n",
       "0  https://platform.newseye.eu/iiif/illustrierte_...          0   \n",
       "1  https://platform.newseye.eu/iiif/illustrierte_...          0   \n",
       "2  https://platform.newseye.eu/iiif/illustrierte_...          0   \n",
       "3  https://platform.newseye.eu/iiif/illustrierte_...          0   \n",
       "4  https://platform.newseye.eu/iiif/arbeiter_zeit...          6   \n",
       "\n",
       "                                                text  \\\n",
       "0  Laura, Siemensstraße.\\nSie können die Auswande...   \n",
       "1  Amerika, Volkertplatz. Lesen Sie den ausführli...   \n",
       "2  Zmsktünftr.\\nEifriger Leser, Leopoldauerplatz,...   \n",
       "3   J. F., Heumühlgasse.\\nPesen Sie die Artikel\\n...   \n",
       "4  Volkswirtschaft.\\nSchutz der Auswanderer oder ...   \n",
       "\n",
       "                                           tokenized  \n",
       "0  [laura, siemensstrass, auswanderungsbewill, er...  \n",
       "1  [amerika, volkertplatz, les, ausfuhr, artikel,...  \n",
       "2  [zmsktunftr, eifrig, les, leopoldauerplatz, be...  \n",
       "3  [heumuhlgass, pes, artikel, amerikareis, ausku...  \n",
       "4  [volkswirtschaft, schutz, vermehr, lohndruck, ...  "
      ]
     },
     "execution_count": 13,
     "metadata": {},
     "output_type": "execute_result"
    }
   ],
   "source": [
    "test_df.head()"
   ]
  },
  {
   "cell_type": "markdown",
   "metadata": {},
   "source": [
    "#### Pre-processing"
   ]
  },
  {
   "cell_type": "code",
   "execution_count": 14,
   "metadata": {},
   "outputs": [],
   "source": [
    "test_df['tokenized'] = test_df['text'].apply(apply_all) \n",
    "def document_to_bow(df):\n",
    "    df['bow'] = list(map(lambda doc: dictionary.doc2bow(doc), test_df['tokenized']))\n",
    "    \n",
    "document_to_bow(test_df)\n",
    "\n",
    "test_df['lda_features'] = list(map(lambda doc:\n",
    "                                     document_to_lda_features(lda, doc),\n",
    "                                     test_df.bow))\n",
    "X_test_lda = np.array(list(map(np.array, test_df.lda_features)))\n",
    "# store all models in a dictionary\n",
    "models = dict()"
   ]
  },
  {
   "cell_type": "markdown",
   "metadata": {},
   "source": [
    "##### Logistic Regression \n",
    "Die logistische Regression ist ein Klassifizierungsalgorithmus des maschinellen Lernens, der zur Vorhersage der Wahrscheinlichkeit einer kategorialen abhängigen Variablen verwendet wird. \n"
   ]
  },
  {
   "cell_type": "code",
   "execution_count": 15,
   "metadata": {},
   "outputs": [
    {
     "name": "stdout",
     "output_type": "stream",
     "text": [
      "Fitting 6 folds for each of 1 candidates, totalling 6 fits\n"
     ]
    },
    {
     "data": {
      "text/html": [
       "<div>\n",
       "<style scoped>\n",
       "    .dataframe tbody tr th:only-of-type {\n",
       "        vertical-align: middle;\n",
       "    }\n",
       "\n",
       "    .dataframe tbody tr th {\n",
       "        vertical-align: top;\n",
       "    }\n",
       "\n",
       "    .dataframe thead th {\n",
       "        text-align: right;\n",
       "    }\n",
       "</style>\n",
       "<table border=\"1\" class=\"dataframe\">\n",
       "  <thead>\n",
       "    <tr style=\"text-align: right;\">\n",
       "      <th></th>\n",
       "      <th>mean_test_score</th>\n",
       "      <th>rank_test_score</th>\n",
       "      <th>param_penalty</th>\n",
       "    </tr>\n",
       "  </thead>\n",
       "  <tbody>\n",
       "    <tr>\n",
       "      <th>0</th>\n",
       "      <td>-1.391227</td>\n",
       "      <td>1</td>\n",
       "      <td>l2</td>\n",
       "    </tr>\n",
       "  </tbody>\n",
       "</table>\n",
       "</div>"
      ],
      "text/plain": [
       "   mean_test_score  rank_test_score param_penalty\n",
       "0        -1.391227                1            l2"
      ]
     },
     "metadata": {},
     "output_type": "display_data"
    }
   ],
   "source": [
    "from sklearn.model_selection import GridSearchCV\n",
    "lr = LogisticRegression()\n",
    "\n",
    "param_grid = {'penalty': ['l2']}\n",
    "\n",
    "best_lr_lda = get_cross_validated_model(lr, param_grid, X_train_lda, train_df.relevancy)\n",
    "\n",
    "models['best_lr_lda'] = best_lr_lda"
   ]
  },
  {
   "cell_type": "markdown",
   "metadata": {},
   "source": [
    "###### Klassifizierung\n",
    "Zunächst erhalten wir einen Datenrahmen mit dem Ergebnis für jede Kategorie. Die Kategorie mit der höchsten Zahl ist die Kategorie, der der Artikel zugeordnet ist. "
   ]
  },
  {
   "cell_type": "code",
   "execution_count": 16,
   "metadata": {},
   "outputs": [
    {
     "data": {
      "text/html": [
       "<div>\n",
       "<style scoped>\n",
       "    .dataframe tbody tr th:only-of-type {\n",
       "        vertical-align: middle;\n",
       "    }\n",
       "\n",
       "    .dataframe tbody tr th {\n",
       "        vertical-align: top;\n",
       "    }\n",
       "\n",
       "    .dataframe thead th {\n",
       "        text-align: right;\n",
       "    }\n",
       "</style>\n",
       "<table border=\"1\" class=\"dataframe\">\n",
       "  <thead>\n",
       "    <tr style=\"text-align: right;\">\n",
       "      <th></th>\n",
       "      <th>relevancy</th>\n",
       "      <th>ads</th>\n",
       "      <th>news</th>\n",
       "      <th>crime</th>\n",
       "      <th>finance</th>\n",
       "      <th>statistic</th>\n",
       "    </tr>\n",
       "  </thead>\n",
       "  <tbody>\n",
       "    <tr>\n",
       "      <th>0</th>\n",
       "      <td>0.0</td>\n",
       "      <td>0.464399</td>\n",
       "      <td>0.118817</td>\n",
       "      <td>0.125793</td>\n",
       "      <td>0.127426</td>\n",
       "      <td>0.163564</td>\n",
       "    </tr>\n",
       "    <tr>\n",
       "      <th>1</th>\n",
       "      <td>0.0</td>\n",
       "      <td>0.738837</td>\n",
       "      <td>0.068195</td>\n",
       "      <td>0.063235</td>\n",
       "      <td>0.067770</td>\n",
       "      <td>0.061962</td>\n",
       "    </tr>\n",
       "    <tr>\n",
       "      <th>2</th>\n",
       "      <td>0.0</td>\n",
       "      <td>0.398735</td>\n",
       "      <td>0.164213</td>\n",
       "      <td>0.152385</td>\n",
       "      <td>0.145075</td>\n",
       "      <td>0.139592</td>\n",
       "    </tr>\n",
       "    <tr>\n",
       "      <th>3</th>\n",
       "      <td>0.0</td>\n",
       "      <td>0.419051</td>\n",
       "      <td>0.138569</td>\n",
       "      <td>0.142370</td>\n",
       "      <td>0.134363</td>\n",
       "      <td>0.165647</td>\n",
       "    </tr>\n",
       "    <tr>\n",
       "      <th>4</th>\n",
       "      <td>6.0</td>\n",
       "      <td>0.161607</td>\n",
       "      <td>0.228238</td>\n",
       "      <td>0.190157</td>\n",
       "      <td>0.234340</td>\n",
       "      <td>0.185658</td>\n",
       "    </tr>\n",
       "  </tbody>\n",
       "</table>\n",
       "</div>"
      ],
      "text/plain": [
       "   relevancy       ads      news     crime   finance  statistic\n",
       "0        0.0  0.464399  0.118817  0.125793  0.127426   0.163564\n",
       "1        0.0  0.738837  0.068195  0.063235  0.067770   0.061962\n",
       "2        0.0  0.398735  0.164213  0.152385  0.145075   0.139592\n",
       "3        0.0  0.419051  0.138569  0.142370  0.134363   0.165647\n",
       "4        6.0  0.161607  0.228238  0.190157  0.234340   0.185658"
      ]
     },
     "execution_count": 16,
     "metadata": {},
     "output_type": "execute_result"
    }
   ],
   "source": [
    "submission_predictions = best_lr_lda.predict_proba(X_test_lda)\n",
    "result= np.append(test_df.relevancy.values.reshape(-1,1), submission_predictions, axis=1)\n",
    "submission_df = pd.DataFrame(data=result, columns=['relevancy', 'ads', 'news', 'crime', 'finance', 'statistic'])\n",
    "submission_df.head(5)"
   ]
  },
  {
   "cell_type": "code",
   "execution_count": 17,
   "metadata": {},
   "outputs": [
    {
     "name": "stdout",
     "output_type": "stream",
     "text": [
      "Your score for ads is: 1.0\n",
      "Your score for news is: 0.8\n",
      "Your score for crime is: 1.0\n",
      "Your score for finances is: 0.75\n",
      "Your score for statistic is: 0.6666666666666666\n",
      "Your overall score is 0.8433333333333334\n"
     ]
    }
   ],
   "source": [
    "max_num = submission_df.loc[:, submission_df.columns != 'relevancy'].max(axis=1)\n",
    "\n",
    "df_ads = submission_df[['ads', 'relevancy']][submission_df['ads'].isin(max_num)]\n",
    "\n",
    "ads_list = []\n",
    "for key, value in df_ads.items(): \n",
    "    for rel in value: \n",
    "        if len(str(rel)) < 4:\n",
    "            ads_list.append(rel)\n",
    "\n",
    "ads_right = []\n",
    "ads_wrong =[]\n",
    "for num in ads_list: \n",
    "    if num == 0.0: \n",
    "        ads_right.append(num)\n",
    "    else: \n",
    "        ads_wrong.append(num)\n",
    "all_ = len(ads_right) + len(ads_wrong)\n",
    "ads_score = len(ads_right) / all_\n",
    "print(f\"Your score for ads is: {ads_score}\")\n",
    "\n",
    "df_news = submission_df[['news', 'relevancy']][submission_df['news'].isin(max_num)]\n",
    "\n",
    "\n",
    "news_list = []\n",
    "for key, value in df_news.items(): \n",
    "    for rel in value: \n",
    "        if len(str(rel)) < 4:\n",
    "            news_list.append(rel)\n",
    "\n",
    "news_right = []\n",
    "news_wrong =[]\n",
    "for num in news_list: \n",
    "    if num == 1.0: \n",
    "        news_right.append(num)\n",
    "    else: \n",
    "        news_wrong.append(num)\n",
    "all_ = len(news_right) + len(news_wrong)\n",
    "news_score = len(news_right) / all_\n",
    "print(f\"Your score for news is: {news_score}\")\n",
    "\n",
    "df_crime = submission_df[['crime', 'relevancy']][submission_df['crime'].isin(max_num)]\n",
    "\n",
    "crime_list = []\n",
    "for key, value in df_crime.items(): \n",
    "    for rel in value: \n",
    "        if len(str(rel)) < 4:\n",
    "            crime_list.append(rel)\n",
    "\n",
    "crime_right = []\n",
    "crime_wrong =[]\n",
    "for num in crime_list: \n",
    "    if num == 4.0: \n",
    "        crime_right.append(num)\n",
    "    else: \n",
    "        crime_wrong.append(num)\n",
    "all_ = len(crime_right) + len(crime_wrong)\n",
    "crime_score = len(crime_right) / all_\n",
    "print(f\"Your score for crime is: {crime_score}\")\n",
    "\n",
    "\n",
    "df_finances = submission_df[['finance', 'relevancy']][submission_df['finance'].isin(max_num)]\n",
    "\n",
    "finances_list = []\n",
    "for key, value in df_finances.items(): \n",
    "    for rel in value: \n",
    "        if len(str(rel)) < 4:\n",
    "            finances_list.append(rel)\n",
    "\n",
    "finances_right = []\n",
    "finances_wrong =[]\n",
    "for num in finances_list: \n",
    "    if num == 6.0: \n",
    "        finances_right.append(num)\n",
    "    else: \n",
    "        finances_wrong.append(num)\n",
    "all_ = len(finances_right) + len(finances_wrong)\n",
    "finance_score = len(finances_right) / all_\n",
    "print(f\"Your score for finances is: {finance_score}\")\n",
    "   \n",
    "df_statistic = submission_df[['statistic', 'relevancy']][submission_df['statistic'].isin(max_num)]\n",
    "\n",
    "statistic_list = []\n",
    "for key, value in df_statistic.items(): \n",
    "    for rel in value: \n",
    "        if len(str(rel)) < 4:\n",
    "            statistic_list.append(rel)\n",
    "\n",
    "statistic_right = []\n",
    "statistic_wrong =[]\n",
    "for num in statistic_list: \n",
    "    if num == 7.0: \n",
    "        statistic_right.append(num)\n",
    "    else: \n",
    "        statistic_wrong.append(num)\n",
    "all_ = len(statistic_right) + len(statistic_wrong)\n",
    "statistic_score = len(statistic_right) / all_\n",
    "print(f\"Your score for statistic is: {statistic_score}\")\n",
    "overall_score = (ads_score + news_score  + crime_score + finance_score + statistic_score) / 5\n",
    "\n",
    "print(f\"Your overall score is {overall_score}\")"
   ]
  },
  {
   "cell_type": "markdown",
   "metadata": {},
   "source": [
    "## Anwendung des Klassifiers auf den gesamten Korpus  <a class=\"anchor\" id=\"6-bullet\"></a>\n"
   ]
  },
  {
   "cell_type": "code",
   "execution_count": 18,
   "metadata": {},
   "outputs": [],
   "source": [
    "df_all = pd.read_csv('export_auswander_01_04_2021_23_08.csv', usecols = ['id','language','date','newspaper_id','iiif_url','text'])\n",
    "df_all_2 = pd.read_csv('export_auswander_01_04_2021_23_08.csv', usecols = ['id','language','date','newspaper_id','iiif_url','text'])\n",
    "df_all['tokenized'] = df_all['text'].apply(apply_all)"
   ]
  },
  {
   "cell_type": "markdown",
   "metadata": {},
   "source": [
    "##### Anzahl der Wörter und Texte im der Sammlung"
   ]
  },
  {
   "cell_type": "code",
   "execution_count": 19,
   "metadata": {},
   "outputs": [
    {
     "data": {
      "text/plain": [
       "'The number of unique words is 89007'"
      ]
     },
     "execution_count": 19,
     "metadata": {},
     "output_type": "execute_result"
    }
   ],
   "source": [
    "from nltk import FreqDist\n",
    "# first get a list of all words\n",
    "all_words = [word for item in list(df_all['tokenized']) for word in item]\n",
    "# use nltk fdist to get a frequency distribution of all words\n",
    "fdist = FreqDist(all_words)\n",
    "f\"The number of unique words is {len(fdist)}\""
   ]
  },
  {
   "cell_type": "code",
   "execution_count": 20,
   "metadata": {},
   "outputs": [
    {
     "name": "stdout",
     "output_type": "stream",
     "text": [
      "length of list: 11733\n",
      "average document length: 65.67152475922612\n",
      "minimum document length: 0\n",
      "maximum document length: 610\n"
     ]
    }
   ],
   "source": [
    "#document length\n",
    "df_all['doc_len'] = df_all['tokenized'].apply(lambda x: len(x))\n",
    "doc_lengths = list(df_all['doc_len'])\n",
    "df_all.drop(labels='doc_len', axis=1, inplace=True)\n",
    "\n",
    "\n",
    "print(f\"length of list: {len(doc_lengths)}\")\n",
    "print(f\"average document length: {np.average(doc_lengths)}\")\n",
    "print(f\"minimum document length: {min(doc_lengths)}\")\n",
    "print(f\"maximum document length: {max(doc_lengths)}\")"
   ]
  },
  {
   "cell_type": "markdown",
   "metadata": {},
   "source": [
    "##### Sehr kurze Artikel (unter 7 Token) werden ausgeschlossen"
   ]
  },
  {
   "cell_type": "code",
   "execution_count": 21,
   "metadata": {},
   "outputs": [
    {
     "name": "stdout",
     "output_type": "stream",
     "text": [
      "After cleaning and excluding short aticles, the dataframe now has: 10854 articles\n",
      "After cleaning and excluding short aticles, the dataframe now has: 10854 articles\n"
     ]
    }
   ],
   "source": [
    "df_all = df_all[df_all['tokenized'].map(len) >= 7]\n",
    "df_all = df_all[df_all['tokenized'].map(type) == list]\n",
    "df_all.reset_index(drop=True,inplace=True)\n",
    "print(\"After cleaning and excluding short aticles, the dataframe now has:\", len(df_all), \"articles\")\n",
    "\n",
    "df_all_2 = df_all[df_all['tokenized'].map(len) >= 7]\n",
    "df_all_2 = df_all[df_all['tokenized'].map(type) == list]\n",
    "df_all_2.reset_index(drop=True,inplace=True)\n",
    "print(\"After cleaning and excluding short aticles, the dataframe now has:\", len(df_all), \"articles\")"
   ]
  },
  {
   "cell_type": "markdown",
   "metadata": {},
   "source": [
    "#### Klassifikation"
   ]
  },
  {
   "cell_type": "code",
   "execution_count": 22,
   "metadata": {},
   "outputs": [
    {
     "data": {
      "text/html": [
       "<div>\n",
       "<style scoped>\n",
       "    .dataframe tbody tr th:only-of-type {\n",
       "        vertical-align: middle;\n",
       "    }\n",
       "\n",
       "    .dataframe tbody tr th {\n",
       "        vertical-align: top;\n",
       "    }\n",
       "\n",
       "    .dataframe thead th {\n",
       "        text-align: right;\n",
       "    }\n",
       "</style>\n",
       "<table border=\"1\" class=\"dataframe\">\n",
       "  <thead>\n",
       "    <tr style=\"text-align: right;\">\n",
       "      <th></th>\n",
       "      <th>text</th>\n",
       "      <th>werbung, spendenaufrufe und informationen</th>\n",
       "      <th>nachrichten und kultur</th>\n",
       "      <th>kriminalität</th>\n",
       "      <th>finanzen</th>\n",
       "      <th>statistik</th>\n",
       "    </tr>\n",
       "  </thead>\n",
       "  <tbody>\n",
       "    <tr>\n",
       "      <th>0</th>\n",
       "      <td>Künstlerdrame Füep## ea#r##ede siegt“,\\nKunstt...</td>\n",
       "      <td>0.149518</td>\n",
       "      <td>0.254327</td>\n",
       "      <td>0.177208</td>\n",
       "      <td>0.173051</td>\n",
       "      <td>0.245897</td>\n",
       "    </tr>\n",
       "    <tr>\n",
       "      <th>1</th>\n",
       "      <td>Industrie=Schulung\\nf Auswanderer. Dr. techn.,...</td>\n",
       "      <td>0.174445</td>\n",
       "      <td>0.324165</td>\n",
       "      <td>0.173375</td>\n",
       "      <td>0.179082</td>\n",
       "      <td>0.148933</td>\n",
       "    </tr>\n",
       "    <tr>\n",
       "      <th>2</th>\n",
       "      <td>ternationales Transporlweser\\nAbtellung: Auswa...</td>\n",
       "      <td>0.175168</td>\n",
       "      <td>0.210881</td>\n",
       "      <td>0.20662</td>\n",
       "      <td>0.214154</td>\n",
       "      <td>0.193178</td>\n",
       "    </tr>\n",
       "    <tr>\n",
       "      <th>3</th>\n",
       "      <td>VI. Stumnergasse 19/21\\nDreimonatige Auswander...</td>\n",
       "      <td>0.190883</td>\n",
       "      <td>0.205755</td>\n",
       "      <td>0.231474</td>\n",
       "      <td>0.174815</td>\n",
       "      <td>0.197073</td>\n",
       "    </tr>\n",
       "    <tr>\n",
       "      <th>4</th>\n",
       "      <td>jeder andere staubgeborene Professor und Geleh...</td>\n",
       "      <td>0.202995</td>\n",
       "      <td>0.244782</td>\n",
       "      <td>0.176997</td>\n",
       "      <td>0.20099</td>\n",
       "      <td>0.174237</td>\n",
       "    </tr>\n",
       "  </tbody>\n",
       "</table>\n",
       "</div>"
      ],
      "text/plain": [
       "                                                text  \\\n",
       "0  Künstlerdrame Füep## ea#r##ede siegt“,\\nKunstt...   \n",
       "1  Industrie=Schulung\\nf Auswanderer. Dr. techn.,...   \n",
       "2  ternationales Transporlweser\\nAbtellung: Auswa...   \n",
       "3  VI. Stumnergasse 19/21\\nDreimonatige Auswander...   \n",
       "4  jeder andere staubgeborene Professor und Geleh...   \n",
       "\n",
       "  werbung, spendenaufrufe und informationen nachrichten und kultur  \\\n",
       "0                                  0.149518               0.254327   \n",
       "1                                  0.174445               0.324165   \n",
       "2                                  0.175168               0.210881   \n",
       "3                                  0.190883               0.205755   \n",
       "4                                  0.202995               0.244782   \n",
       "\n",
       "  kriminalität  finanzen statistik  \n",
       "0     0.177208  0.173051  0.245897  \n",
       "1     0.173375  0.179082  0.148933  \n",
       "2      0.20662  0.214154  0.193178  \n",
       "3     0.231474  0.174815  0.197073  \n",
       "4     0.176997   0.20099  0.174237  "
      ]
     },
     "execution_count": 22,
     "metadata": {},
     "output_type": "execute_result"
    }
   ],
   "source": [
    "def document_to_bow(df):\n",
    "    df['bow'] = list(map(lambda doc: dictionary.doc2bow(doc), df_all['tokenized']))\n",
    "    \n",
    "document_to_bow(df_all)\n",
    "df_all['lda_features'] = list(map(lambda doc:\n",
    "                                     document_to_lda_features(lda, doc),\n",
    "                                     df_all.bow))\n",
    "X_all_lda = np.array(list(map(np.array, df_all.lda_features)))\n",
    "submission_predictions = best_lr_lda.predict_proba(X_all_lda)\n",
    "result= np.append(df_all.text.values.reshape(-1,1), submission_predictions, axis=1)\n",
    "result_2= np.append(df_all_2, submission_predictions, axis=1)\n",
    "submission_df_all = pd.DataFrame(data=result, columns=['text', 'werbung, spendenaufrufe und informationen', 'nachrichten und kultur', 'kriminalität', 'finanzen', 'statistik'])\n",
    "submission_df_all_2 = pd.DataFrame(data=result_2, columns=['id','language','date','newspaper_id','iiif_url','text', 'token', 'ads', 'news', 'crime', 'finance', 'statistic'])\n",
    "submission_df_all.head(5)"
   ]
  },
  {
   "cell_type": "code",
   "execution_count": 23,
   "metadata": {},
   "outputs": [],
   "source": [
    "max_num = submission_df_all.loc[:, submission_df_all.columns != 'text'].max(axis=1)"
   ]
  },
  {
   "cell_type": "code",
   "execution_count": 24,
   "metadata": {},
   "outputs": [],
   "source": [
    "ads = submission_df_all[['text']][submission_df_all['werbung, spendenaufrufe und informationen'].isin(max_num)]\n",
    "news = submission_df_all[['text']][submission_df_all['nachrichten und kultur'].isin(max_num)]\n",
    "crime = submission_df_all[['text']][submission_df_all['kriminalität'].isin(max_num)]\n",
    "finance = submission_df_all[['text']][submission_df_all['finanzen'].isin(max_num)]\n",
    "statistic = submission_df_all[['text']][submission_df_all['statistik'].isin(max_num)]"
   ]
  },
  {
   "cell_type": "code",
   "execution_count": 25,
   "metadata": {
    "scrolled": false
   },
   "outputs": [
    {
     "data": {
      "text/html": [
       "<style  type=\"text/css\" >\n",
       "</style><table id=\"T_2a6f4f78_4243_11ec_9c09_e470b8a9ba13\" ><thead>    <tr>        <th class=\"col_heading level0 col0\" >Werbung, Spendenaufrufe und Informationen</th>        <th class=\"col_heading level0 col1\" >Nachrichten und Kultur</th>        <th class=\"col_heading level0 col2\" >Kriminalität</th>        <th class=\"col_heading level0 col3\" >Finanzen</th>        <th class=\"col_heading level0 col4\" >Statistik</th>    </tr></thead><tbody>\n",
       "                <tr>\n",
       "                                <td id=\"T_2a6f4f78_4243_11ec_9c09_e470b8a9ba13row0_col0\" class=\"data row0 col0\" >Auswanderer nach Amerika, welche sich\n",
       "im Staate Missouri, Bisconsin, in Nordamerika niederlassen, können sowol auf Credit, als auch gegen geringe Zahlung sich\n",
       "Land zum Anbau erwerben. Nebst Ackerbauer</td>\n",
       "                        <td id=\"T_2a6f4f78_4243_11ec_9c09_e470b8a9ba13row0_col1\" class=\"data row0 col1\" >Straßburg, 18. December. [Orig.=Corr.] (Eine\n",
       "Stimme aus Frankreich über Elsaß=Lothringen.\n",
       "Neue Vereine.) Im neuesten Hefte der Revue des deux\n",
       "Mondes veröffentlicht Herr Mézières einen langen Aufsatz, </td>\n",
       "                        <td id=\"T_2a6f4f78_4243_11ec_9c09_e470b8a9ba13row0_col2\" class=\"data row0 col2\" >Lemberg, 15. April. Dem Dilo zufolge hat die Statthalterei zur Eindämmung der Auswanderungs=Bewegung\n",
       "an die griechisch=katholischen Ordinariate in Galizien einen Erlaß\n",
       "gerichtet, wonach die Pfarrämter angewiesen werden sollen, den\n",
       "auswanderungslustigen Bauern Matrikenauszüge, deren sich die\n",
       "selben i</td>\n",
       "                        <td id=\"T_2a6f4f78_4243_11ec_9c09_e470b8a9ba13row0_col3\" class=\"data row0 col3\" >[„Schubertbund“.] In der letzten Versammlung des Vereines „Schubertbund“ machte der Vorstand in Betreff der vom Bunde\n",
       "ausgeschriebenen Preise die Mittheilung, daß die Preisrichter von den\n",
       "zahlreich eingelaufenen Nummern zwei Chöre für den zweiten Preis\n",
       "(5 Ducaten) in Vorschlag brachten. Zur Erlangung des ersten Preises\n",
       "(10 Ducaten) soll ein neuer Concurs ausgeschrieben werden. In der\n",
       "nächsten Versammlung erfolgt die feierliche Zuerkennung der Preise\n",
       "durch den Vorstand. Die in Aussicht genommenen</td>\n",
       "                        <td id=\"T_2a6f4f78_4243_11ec_9c09_e470b8a9ba13row0_col4\" class=\"data row0 col4\" >(Auswanderer.) Aus Triest wird berichtet:\n",
       "Die italienische Emigration nach Amerika nimmt\n",
       "in auße ordentlicher Weise zu. In den drei Monaten August bis October wanderten 71.612 Personen aus, die meiste</td>\n",
       "            </tr>\n",
       "            <tr>\n",
       "                                <td id=\"T_2a6f4f78_4243_11ec_9c09_e470b8a9ba13row1_col0\" class=\"data row1 col0\" >nachweislich bei einem Werthe von\n",
       "45,000 fl. mit 10 Perc. rentirend,\n",
       "wird wegen Auswanderung des Besitzers um 10.000 fl. verkauft. Anzahlung 6000 fl. Bewerber belieben\n",
       "ihre Adresse unter D. 3079 der\n",
       "A</td>\n",
       "                        <td id=\"T_2a6f4f78_4243_11ec_9c09_e470b8a9ba13row1_col1\" class=\"data row1 col1\" >Dieselben Blätter übersetzten aus dem Londoner\n",
       "Jewish Chronicle den Brief eines englischen Obersten\n",
       "Hart, in welchem der Schreiber sich auf einen Ausspruch\n",
       "des russischen Consuls in Bukarest bezieht, </td>\n",
       "                        <td id=\"T_2a6f4f78_4243_11ec_9c09_e470b8a9ba13row1_col2\" class=\"data row1 col2\" >Wien, 14. November. [Orig.=Ber.] (Die Noth in Galizien.) Gestern wurden vor einem Erkenntnißsenate unter Vorsitz\n",
       "des Landesgerichtsrathes Granichstädten sechsundzwanzig Verhandlungen gegen achtunddreißig junge Leute aus Galizien durchgeführt, welche vor Erfüllung ihrer Militärpflicht und ohne behörd</td>\n",
       "                        <td id=\"T_2a6f4f78_4243_11ec_9c09_e470b8a9ba13row1_col3\" class=\"data row1 col3\" >det sei. Es wurden Verhandlungen eingeleitet, um den\n",
       "wohnern von Issy und Vanves die Auswanderung zu\n",
       "ermöglichen.</td>\n",
       "                        <td id=\"T_2a6f4f78_4243_11ec_9c09_e470b8a9ba13row1_col4\" class=\"data row1 col4\" >1. Shillings\n",
       "eines Jahres.\n",
       "# F) ver göc kr 1 e.ühung\n",
       "Die Arheitslekon aklon #ei# gio eines Jahr\n",
       "Gesellschaft andel? #ag. Wer zeyn Jahre der\n",
       "— im Rodarfsfalle 8.5 Staur. —nerung\n",
       "80 kr 3 Ms darf -Von ni</td>\n",
       "            </tr>\n",
       "            <tr>\n",
       "                                <td id=\"T_2a6f4f78_4243_11ec_9c09_e470b8a9ba13row2_col0\" class=\"data row2 col0\" >[Ein Brief an den Papst.] Am Mittwoch Abend fand\n",
       "in Berlin eine Versammlung statt, so wüst, wie man sie, nach\n",
       "der Berliner Börsenzeitung, selten gesehen. Durch die Ankündigung, einen „offenen Brief an</td>\n",
       "                        <td id=\"T_2a6f4f78_4243_11ec_9c09_e470b8a9ba13row2_col1\" class=\"data row2 col1\" >Rumänien., Der amerikanische Koyzmn in Butgrest forderte die rumänische\n",
       "Regierung auf, die Auswanderung der Bukarester Juden nach Amerika zu\n",
       "unterstützen.</td>\n",
       "                        <td id=\"T_2a6f4f78_4243_11ec_9c09_e470b8a9ba13row2_col2\" class=\"data row2 col2\" >Brünn, 22. November. [Orig.=Ber.] (Enthaftung.)\n",
       "Die Inhaber der hiesigen Reisefirma Augusta & Comp., die\n",
       "unter dem Verdachte, militärpflichtigen jungen Männern aus\n",
       "Galizien zur Auswanderung nach Amerika Vorschub geleistet zu\n",
       "haben, am 16. November in Haft genommen waren, wurden\n",
       "heute in Folge Interv</td>\n",
       "                        <td id=\"T_2a6f4f78_4243_11ec_9c09_e470b8a9ba13row2_col3\" class=\"data row2 col3\" >Fast hatte es den Anschein, als wollte die heutige Börse der\n",
       "Flauheit ihren freien Lauf lassen, so geschäftslos und matt war es\n",
       "durch eine lange Zeit auf allen Verkehrsgebieten; da trat auch heute\n",
       "wieder kurz vor dem Börsenschlusse eine kräftige Reprise ein, die\n",
       "der Physiognomie des Marktes ein freundliches, vertrauenerweckendes Gepräge aufdrückte. Die Zinsfußermäßigung der englischen Bank\n",
       "fand nicht die geringste Beachtung; dagegen hatte die Speculation\n",
       "ein neues Moment gefunden, den Verkauf de</td>\n",
       "                        <td id=\"T_2a6f4f78_4243_11ec_9c09_e470b8a9ba13row2_col4\" class=\"data row2 col4\" >woche schifften sich in Genua 5600, in den südlichen Häfen mehr als 4000 italienische Auswanderer ein, welche sich meist nach Brasilien\n",
       "wenden.</td>\n",
       "            </tr>\n",
       "            <tr>\n",
       "                                <td id=\"T_2a6f4f78_4243_11ec_9c09_e470b8a9ba13row3_col0\" class=\"data row3 col0\" >mit der Zeit Zustände herbeiführen muß, wie Großbritannien\n",
       "sie nächstens in Irland beseitigen will. Dem Adelsgeiste widerspricht es, die amerikanische Heimstätte=Bill auch nur im\n",
       "schwachen Abklatsch n</td>\n",
       "                        <td id=\"T_2a6f4f78_4243_11ec_9c09_e470b8a9ba13row3_col1\" class=\"data row3 col1\" >sischen und baierischen „Nation“ angehörig, auswanderten,\n",
       "Erstere sogleich die Universität Leipzig und Letztere später die\n",
       "von Ingolstadt begründend. Aber auch für Böhmen selbst\n",
       "kamen trübe Zeiten; di</td>\n",
       "                        <td id=\"T_2a6f4f78_4243_11ec_9c09_e470b8a9ba13row3_col2\" class=\"data row3 col2\" >Brünn, 23. December. (Einstellung einer Untersuchung.) Die Untersuchung des Falles der hier verhafteten militärpflichtigen Auswanderer, die sich durch die Reise nach Amerika dem\n",
       "Militärdienste entziehen wollten, hat in jeder Hinsicht die Schuld\n",
       "losigkeit der hiesigen Firma Augusta & Co., welche den </td>\n",
       "                        <td id=\"T_2a6f4f78_4243_11ec_9c09_e470b8a9ba13row3_col3\" class=\"data row3 col3\" >Berlin, 14. März. Die Special=Commission\n",
       "des Bundesrathes hat noch keine Einigung über die\n",
       "Tabaksteuer=Erhöhung erzielt; zu den dissentirenden\n",
       "Stagten Baiern und Baden trat Mecklenburg hinzu, dessen\n",
       "Regierung von der Tabaksteuer=Erhöhung eine Vermehrung der\n",
       "Auswanderung der kleinen Grundbesitzer fürchtet.</td>\n",
       "                        <td id=\"T_2a6f4f78_4243_11ec_9c09_e470b8a9ba13row3_col4\" class=\"data row3 col4\" >sabst habeer gar nichtsgekunden, was die Beamten\n",
       "irgendeiner Woise ainschr u gwährleisteten Rechte in\n",
       "eine Kritik Deise einschranken würde. Er wolle hiemit keineswegs\n",
       "eine Kritik an dem Erlaß üben ode</td>\n",
       "            </tr>\n",
       "            <tr>\n",
       "                                <td id=\"T_2a6f4f78_4243_11ec_9c09_e470b8a9ba13row4_col0\" class=\"data row4 col0\" >Für Auswanderer und Reisende.\n",
       "Regelmäßige, solide und billige Spedition mittelst\n",
       "Post-, Dampf- & Segelschiffen\n",
       "nach allen Theilen von\n",
       "Nord= und Süd=Amerika und Australien</td>\n",
       "                        <td id=\"T_2a6f4f78_4243_11ec_9c09_e470b8a9ba13row4_col1\" class=\"data row4 col1\" >der Auswanderung Menschenmangel herrsche. Demzufolge\n",
       "bleiben zahlreiche katholische — und nur katholische —\n",
       "Schulen leer, oder es erscheinen statt der Kinder die Mütter,\n",
       "um zu erklären, daß sie sich i</td>\n",
       "                        <td id=\"T_2a6f4f78_4243_11ec_9c09_e470b8a9ba13row4_col2\" class=\"data row4 col2\" >Telegramme der „Neuen Freien Presse.\n",
       "Lemberg, 24. December. Für den 26. d. wurde nach\n",
       "Zbaraz ein ruthenisches Bauernmecting einberufen, um\n",
       "die Ursachen der Massen=Auswanderung aus Galizien\n",
       "und die Frage der Einführung der directen Wahlen in\n",
       "der Landgemeinden=Curie zu besprechen.</td>\n",
       "                        <td id=\"T_2a6f4f78_4243_11ec_9c09_e470b8a9ba13row4_col3\" class=\"data row4 col3\" >Bei der darauf folgenden zweiten Berathung des\n",
       "Gesetzentwurfes über die Einführung der Reichsverfassung in Elsaß=Lothringen wurde das\n",
       "Amendement Petersen's angenommen, welches den Ausschluß derjenigen von der Wahl beseitigt, die für Frankreich optirten, aber nicht auswanderten.\n",
       "Das Reichensperger'sche Amendement zu §. 8,\n",
       "welches die Vorlegung eines LandesverfassungsGesetzes für Elsaß=Lothringen in der nächsten\n",
       "Reichstagssession verlangte, wird nach längerer Debatte abgelehnt und dieser Paragraph</td>\n",
       "                        <td id=\"T_2a6f4f78_4243_11ec_9c09_e470b8a9ba13row4_col4\" class=\"data row4 col4\" >(Auswanderung.) Am 1. d. M. sind aus der\n",
       "Fraction Crosano, Gemeinde Breutonico, mehrere\n",
       "Familien, im ganzen 15 Personen, nach Brasilien\n",
       "ausgewandert.</td>\n",
       "            </tr>\n",
       "    </tbody></table>"
      ],
      "text/plain": [
       "<pandas.io.formats.style.Styler at 0x29715954208>"
      ]
     },
     "metadata": {},
     "output_type": "display_data"
    }
   ],
   "source": [
    "#transform your lists into a dataframe\n",
    "\n",
    "df_ads = pd.DataFrame(np.column_stack([ads]), \n",
    "                               columns=['Werbung, Spendenaufrufe und Informationen'])\n",
    "\n",
    "\n",
    "df_news = pd.DataFrame(np.column_stack([news]), \n",
    "                               columns=['Nachrichten und Kultur'])\n",
    "\n",
    "df_crime = pd.DataFrame(np.column_stack([crime]), \n",
    "                               columns=['Kriminalität'])\n",
    "\n",
    "\n",
    "\n",
    "df_finance = pd.DataFrame(np.column_stack([finance]), \n",
    "                               columns=['Finanzen'])\n",
    "\n",
    "df_statistic = pd.DataFrame(np.column_stack([statistic]), \n",
    "                               columns=['Statistik'])\n",
    "\n",
    "df_results = pd.concat([df_ads, df_news,df_crime, df_finance, df_statistic], ignore_index=True, axis=1)\n",
    "df_results.columns=['Werbung, Spendenaufrufe und Informationen','Nachrichten und Kultur','Kriminalität', 'Finanzen', 'Statistik']\n",
    "df_results['Werbung, Spendenaufrufe und Informationen'][40:45] = df_results['Werbung, Spendenaufrufe und Informationen'][40:45].apply(lambda x: x[:200])\n",
    "df_results['Nachrichten und Kultur'][40:45] = df_results['Nachrichten und Kultur'][40:45].apply(lambda x: x[:200])\n",
    "df_results['Kriminalität'][40:45] = df_results['Kriminalität'][40:45].apply(lambda x: x[:300])\n",
    "df_results['Finanzen'][40:45] = df_results['Finanzen'][40:45].apply(lambda x: x[:500])\n",
    "df_results['Statistik'][40:45] = df_results['Statistik'][40:45].apply(lambda x: x[:200])\n",
    "display(df_results[40:45].style.hide_index())\n"
   ]
  },
  {
   "cell_type": "markdown",
   "metadata": {},
   "source": [
    "## Ergebnisse Visualisieren <a class=\"anchor\" id=\"7-bullet\"></a>\n"
   ]
  },
  {
   "cell_type": "code",
   "execution_count": 26,
   "metadata": {},
   "outputs": [
    {
     "data": {
      "image/png": "[encoded data removed]",
      "text/plain": [
       "<Figure size 1008x576 with 1 Axes>"
      ]
     },
     "metadata": {},
     "output_type": "display_data"
    }
   ],
   "source": [
    "plt.rcParams.update({'font.size': 16})\n",
    "plt.figure(figsize=(14, 8))\n",
    "# Data to plot\n",
    "labels = 'Werbung, Spendenaufrufe und Informationen', 'Nachrichten und Kultur', 'Kriminalität', 'Finanzen', 'Statistik'\n",
    "sizes = [len(ads), len(news), len(crime), len(finance), len(statistic)]\n",
    "colors = ['gold', 'yellowgreen', 'lightcoral', 'lightskyblue', 'blueviolet', 'darkturquoise', 'sandybrown', 'pink']\n",
    "explode = (0, 0, 0, 0, 0)  # explode 1st slice\n",
    "\n",
    "# Plot\n",
    "plt.pie(sizes, explode=explode, labels=labels, colors=colors,\n",
    "autopct='%1.1f%%', shadow=False, startangle=14)\n",
    "plt.axis('equal', fontsize=100)\n",
    "plt.savefig('circle.png', dpi = 300)"
   ]
  },
  {
   "cell_type": "code",
   "execution_count": 27,
   "metadata": {},
   "outputs": [],
   "source": [
    "#transform your lists into a dataframe\n",
    "\n",
    "ads_2 = submission_df_all_2[['id','language','date','newspaper_id','iiif_url','text']][submission_df_all['werbung, spendenaufrufe und informationen'].isin(max_num)]\n",
    "news_2 = submission_df_all_2[['id','language','date','newspaper_id','iiif_url','text']][submission_df_all['nachrichten und kultur'].isin(max_num)]\n",
    "crime_2 = submission_df_all_2[['id','language','date','newspaper_id','iiif_url','text']][submission_df_all['kriminalität'].isin(max_num)]\n",
    "finance_2 = submission_df_all_2[['id','language','date','newspaper_id','iiif_url','text']][submission_df_all['finanzen'].isin(max_num)]\n",
    "statistic_2 = submission_df_all_2[['id','language','date','newspaper_id','iiif_url','text']][submission_df_all['statistik'].isin(max_num)]\n",
    "\n",
    "df_ads = pd.DataFrame(np.column_stack([ads_2]), \n",
    "                               columns=['id','language','date','newspaper_id','iiif_url','text'])\n",
    "\n",
    "\n",
    "df_news = pd.DataFrame(np.column_stack([news_2]), \n",
    "                               columns=['id','language','date','newspaper_id','iiif_url','text'])\n",
    "\n",
    "df_crime = pd.DataFrame(np.column_stack([crime_2]), \n",
    "                               columns=['id','language','date','newspaper_id','iiif_url','text'])\n",
    "\n",
    "df_finance = pd.DataFrame(np.column_stack([finance_2]), \n",
    "                               columns=['id','language','date','newspaper_id','iiif_url','text'])\n",
    "\n",
    "df_statistic = pd.DataFrame(np.column_stack([statistic_2]), \n",
    "                               columns=['id','language','date','newspaper_id','iiif_url','text'])\n"
   ]
  },
  {
   "cell_type": "code",
   "execution_count": 28,
   "metadata": {},
   "outputs": [
    {
     "data": {
      "image/png": "[encoded data removed]",
      "text/plain": [
       "<Figure size 2160x360 with 2 Axes>"
      ]
     },
     "metadata": {
      "needs_background": "light"
     },
     "output_type": "display_data"
    },
    {
     "data": {
      "image/png": "[encoded data removed]",
      "text/plain": [
       "<Figure size 2160x360 with 2 Axes>"
      ]
     },
     "metadata": {
      "needs_background": "light"
     },
     "output_type": "display_data"
    }
   ],
   "source": [
    "df_ads['date']=pd.to_datetime(df_ads['date']).dt.strftime('%Y')\n",
    "df_crime['date']=pd.to_datetime(df_crime['date']).dt.strftime('%Y')\n",
    "df_news['date']=pd.to_datetime(df_news['date']).dt.strftime('%Y')\n",
    "df_finance['date']=pd.to_datetime(df_finance['date']).dt.strftime('%Y')\n",
    "\n",
    "fig, axes = plt.subplots(1,2,figsize=(30,5))\n",
    "df_ads.groupby(['date','newspaper_id']).size().unstack().plot(kind='bar',stacked=True, ax=axes[1])\n",
    "df_news.groupby(['date','newspaper_id']).size().unstack().plot(kind='bar',stacked=True, ax=axes[0])\n",
    "axes[1].title.set_text('Werbung, Spendenaufrufe und Informationen')\n",
    "axes[0].title.set_text('Nachrichten und Kultur')\n",
    "\n",
    "fig, axes = plt.subplots(1,2,figsize=(30,5))\n",
    "df_crime.groupby(['date','newspaper_id']).size().unstack().plot(kind='bar',stacked=True, ax=axes[0])\n",
    "df_finance.groupby(['date','newspaper_id']).size().unstack().plot(kind='bar',stacked=True, ax=axes[1])\n",
    "axes[0].title.set_text('Kriminalität')\n",
    "axes[1].title.set_text('Finanzen')"
   ]
  }
 ],
 "metadata": {
  "kernelspec": {
   "display_name": "Python 3",
   "language": "python",
   "name": "python3"
  },
  "language_info": {
   "codemirror_mode": {
    "name": "ipython",
    "version": 3
   },
   "file_extension": ".py",
   "mimetype": "text/x-python",
   "name": "python",
   "nbconvert_exporter": "python",
   "pygments_lexer": "ipython3",
   "version": "3.7.4"
  }
 },
 "nbformat": 4,
 "nbformat_minor": 4
}
