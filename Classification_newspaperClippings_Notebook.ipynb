{
 "cells": [
  {
   "cell_type": "markdown",
   "metadata": {},
   "source": [
    "# Text classification for topic-specific newspaper collections"
   ]
  },
  {
   "cell_type": "markdown",
   "metadata": {},
   "source": [
    "Text classification is the process of categorizing text into pre-defined groups. By using Natural Language Processing (NLP), text classifiers can automatically analyze text and then assign a set of given categories based on the research question. This automated classification of text into predefined categories is an important method for managing and processing a large number of newspaper clippings. This also applies to subcorpora for a specific research topic (e.g. migration). The aim of this notebook is to train a model using your previously manually created training/test corpus and to use this model to get an overview of the category or genre distribution throughout your collection (see figure below). Another goal is to export your categorized data for further analysis. This is great, if you would like to research, for example, newspaper advertisements on a specific topic. \n",
    "\n",
    "This notebook was used with a collection for the case study on emigration and shows how a model can be trained to classify topic-specific collections. For the training/testing corpus, a collection with the keywords \"Auswander*\", \"Ausgewanderte\", \"Emigrant*\", \"Emigrierte\", \"Emigration\", \"Kolonist*\", and \"Ansiedler*\" (all different German words for emigrants or emigration) have been created. In addition, information on the pre-defined gropus (news, ads, culture...) were added using numbers between one and ten. \n",
    "\n",
    "For classification, topic modelling (LDA) was chosen because it showed the best performance in classification (after experiments with word embeddings or LDA and word embeddings combined). LDA provides a way to group documents by topic and perform similarity searches and improve precision. Thanks to sklearn, it is relatively easy to test different classifiers for a given topic classification task. Logistic regression was chosen as binary classifier. \n",
    "\n",
    "Following graphs shows the one of the visualizations of this notebooks. It demonstrates the \n",
    "\n",
    "![](images/genre_2.PNG)\n",
    "\n",
    "\n",
    "Read more about <a href=\"https://monkeylearn.com/blog/introduction-to-topic-modeling/\" target=\"_blank\">Topic Modeling</a> and <a href=\"https://towardsdatascience.com/logistic-regression-model-tuning-with-scikit-learn-part-1-425142e01af5\" target=\"_blank\">Logistic Regression Model Tuning</a>.\n",
    "\n",
    "Acknowledgments:\n",
    "\n",
    "This work has been inspired by a notebook on <a href=\"https://www.kaggle.com/vukglisovic/classification-combining-lda-and-word2vec\" target=\"_blank\">LDA and word embeddings</a> and several other soursces that provided help on how to buid models. This work was supported by the European Union's Horizon 2020 research and innovation programme under grant 770299 (NewsEye)."
   ]
  },
  {
   "cell_type": "markdown",
   "metadata": {},
   "source": [
    "## Step by step...\n",
    "* [Prepare a small manually annotated collection](#1-bullet)\n",
    "* [Install packages in command line](#2-bullet)\n",
    "* [Import packages](#3-bullet)\n",
    "* [Import your manually annotated newspaper collection](#4-bullet)\n",
    "* [Clean and tokenize the text (pre-processing)](#5-bullet)\n",
    "* [Have a look at your data](#6-bullet)\n",
    "* [Use your dataset to create a training corpus and test corpus](#7-bullet)\n",
    "* [Create topic models using your training corpus](#8-bullet)\n",
    "* [Have a look at your topics](#9-bullet)\n",
    "* [Create the feature vector ](#10-bullet)\n",
    "* [Have a look at the top words for each category](#11-bullet)\n",
    "* [Hyperparameter tuning](#12-bullet)\n",
    "* [Using the test corpus](#13-bullet)\n",
    "* [Logistic Regression](#14-bullet)\n",
    "* [Now it is time to make the classifications](#15-bullet)\n",
    "* [Calculate the score for each category as well as the overall score](#16-bullet)\n",
    "* [If your overall score is higher than 80 percent, you can start to use your whole collection](#17-bullet)\n",
    "* [Clean (pre-process) your whole collection](#18-bullet)\n",
    "* [Now it is time to make the classifications for the whole collection](#19-bullet)\n",
    "* [Create a dataframe and export as excel to check the results](#20-bullet)\n",
    "* [If you are satisfied with the results, you can save them in the form of your original file](#21-bullet)\n",
    "* [Visualize your results](#22-bullet)\n"
   ]
  },
  {
   "cell_type": "markdown",
   "metadata": {},
   "source": [
    "## Prepare a small manually annotated collection <a class=\"anchor\" id=\"1-bullet\"></a>\n",
    "\n",
    "This program uses annotations for evaluation and classification. Therefore, a manually annotated collection of at labout 80 to 100 articles per category is needed to work with this program. To create this collection, the numbers 0 to 7 have been assignet to the articles, each number representing one newspaper category (ads, news, culture_literature_stories_letters, appeals_donations_information, crime, finance, statistic). When you create this collection, make sure you create a representative collection of the whole search result. If you use a long time period, make sure all timer periods are represented in your small collection. \n",
    "The newspaper articles with the annotations should be saved as CSV.\n",
    "\n",
    "The following steps are illustrated using the case study on emigration. The main goal is to classify a corpus into different categories in order to use specific categories for further research (e.g the study of advertising and classified ads by and for emigrants between 1850 and 1950) "
   ]
  },
  {
   "cell_type": "markdown",
   "metadata": {},
   "source": [
    "## Install packages in command line <a class=\"anchor\" id=\"2-bullet\"></a>\n",
    " \n",
    "If you need help on how to pip install, have a look at this tutorial: https://packaging.python.org/tutorials/installing-packages/\n",
    "\n",
    "pip install gensim\n",
    "\n",
    "pip install PyLDAvis\n",
    "\n",
    "pip install spacy\n",
    "\n",
    "python -m spacy download de_core_web_sm\n",
    "\n",
    "pip install pandas\n",
    "\n",
    "pip install regex\n",
    "\n",
    "pip install nltk\n",
    "\n",
    "pip install matplotlib\n",
    "\n",
    "pip install numpy\n",
    "\n",
    "pip install seaborn\n",
    "\n",
    "pip install sklearn"
   ]
  },
  {
   "cell_type": "markdown",
   "metadata": {},
   "source": [
    "## Import packages <a class=\"anchor\" id=\"3-bullet\"></a>\n",
    "\n",
    "Before you can get started, you have to install and import some packages.\n",
    "\n",
    "#### Make sure you use the version 1.9.0 with smart_open: python -m pip install --upgrade smart_open==1.9.0\n"
   ]
  },
  {
   "cell_type": "code",
   "execution_count": 1,
   "metadata": {},
   "outputs": [],
   "source": [
    "# more common imports\n",
    "import pandas as pd\n",
    "import numpy as np\n",
    "from collections import Counter\n",
    "import r\n",
    "import sys\n",
    "import time\n",
    "\n",
    "# preprocessing imports\n",
    "from sklearn.preprocessing import LabelEncoder\n",
    "from nltk.corpus import stopwords\n",
    "from nltk.stem.porter import PorterStemmer\n",
    "from gensim.utils import lemmatize, simple_preprocess\n",
    "import spacy\n",
    "\n",
    "# model imports\n",
    "from gensim.models.ldamulticore import LdaMulticore\n",
    "from sklearn.ensemble import RandomForestClassifier, AdaBoostClassifier\n",
    "from sklearn.linear_model import LogisticRegression\n",
    "\n",
    "# LDA\n",
    "import nltk\n",
    "import gensim\n",
    "from gensim.corpora import Dictionary\n",
    "import gensim, spacy, logging, warnings\n",
    "import gensim.corpora as corpora\n",
    "from gensim.models import CoherenceModel\n",
    "from nltk.corpus import stopwords\n",
    "from gensim.models import LdaModel\n",
    "from gensim import models, corpora, similarities\n",
    "\n",
    "# hyperparameter training imports\n",
    "from sklearn.model_selection import GridSearchCV\n",
    "\n",
    "# visualization imports\n",
    "from IPython.display import display\n",
    "import seaborn as sns\n",
    "import matplotlib.pyplot as plt\n",
    "import matplotlib.image as mpimg\n",
    "import base64\n",
    "import io\n",
    "%matplotlib inline\n",
    "\n",
    "\n",
    "# Frequency\n",
    "from nltk import FreqDist\n"
   ]
  },
  {
   "cell_type": "code",
   "execution_count": 2,
   "metadata": {},
   "outputs": [],
   "source": [
    "pd.set_option('mode.chained_assignment', None)"
   ]
  },
  {
   "cell_type": "markdown",
   "metadata": {},
   "source": [
    "## Import your manually annotated newspaper collection <a class=\"anchor\" id=\"4-bullet\"></a>\n",
    "And have a look at your data"
   ]
  },
  {
   "cell_type": "code",
   "execution_count": 3,
   "metadata": {},
   "outputs": [
    {
     "name": "stdout",
     "output_type": "stream",
     "text": [
      "(672, 7)\n"
     ]
    },
    {
     "data": {
      "text/html": [
       "<div>\n",
       "<style scoped>\n",
       "    .dataframe tbody tr th:only-of-type {\n",
       "        vertical-align: middle;\n",
       "    }\n",
       "\n",
       "    .dataframe tbody tr th {\n",
       "        vertical-align: top;\n",
       "    }\n",
       "\n",
       "    .dataframe thead th {\n",
       "        text-align: right;\n",
       "    }\n",
       "</style>\n",
       "<table border=\"1\" class=\"dataframe\">\n",
       "  <thead>\n",
       "    <tr style=\"text-align: right;\">\n",
       "      <th></th>\n",
       "      <th>id</th>\n",
       "      <th>language</th>\n",
       "      <th>date</th>\n",
       "      <th>newspaper_id</th>\n",
       "      <th>iiif_url</th>\n",
       "      <th>relevancy</th>\n",
       "      <th>text</th>\n",
       "    </tr>\n",
       "  </thead>\n",
       "  <tbody>\n",
       "    <tr>\n",
       "      <td>0</td>\n",
       "      <td>arbeiter_zeitung_aze19131209_article_127</td>\n",
       "      <td>de</td>\n",
       "      <td>1913-12-09T00:00:00Z</td>\n",
       "      <td>arbeiter_zeitung</td>\n",
       "      <td>https://platform.newseye.eu/iiif/arbeiter_zeit...</td>\n",
       "      <td>4</td>\n",
       "      <td>* Betrug an Auswanderern. Am 5. d. abends wurd...</td>\n",
       "    </tr>\n",
       "    <tr>\n",
       "      <td>1</td>\n",
       "      <td>arbeiter_zeitung_aze19121018_article_191</td>\n",
       "      <td>de</td>\n",
       "      <td>1912-10-18T00:00:00Z</td>\n",
       "      <td>arbeiter_zeitung</td>\n",
       "      <td>https://platform.newseye.eu/iiif/arbeiter_zeit...</td>\n",
       "      <td>4</td>\n",
       "      <td>Die maßlosen Schurkereien der Grenzpolizeibehö...</td>\n",
       "    </tr>\n",
       "    <tr>\n",
       "      <td>2</td>\n",
       "      <td>arbeiter_zeitung_aze19200205_article_81</td>\n",
       "      <td>de</td>\n",
       "      <td>1920-02-05T00:00:00Z</td>\n",
       "      <td>arbeiter_zeitung</td>\n",
       "      <td>https://platform.newseye.eu/iiif/arbeiter_zeit...</td>\n",
       "      <td>4</td>\n",
       "      <td>* Das Opfer von Bauernfüngern. Der Arbeiter Ar...</td>\n",
       "    </tr>\n",
       "  </tbody>\n",
       "</table>\n",
       "</div>"
      ],
      "text/plain": [
       "                                         id language                  date  \\\n",
       "0  arbeiter_zeitung_aze19131209_article_127       de  1913-12-09T00:00:00Z   \n",
       "1  arbeiter_zeitung_aze19121018_article_191       de  1912-10-18T00:00:00Z   \n",
       "2   arbeiter_zeitung_aze19200205_article_81       de  1920-02-05T00:00:00Z   \n",
       "\n",
       "       newspaper_id                                           iiif_url  \\\n",
       "0  arbeiter_zeitung  https://platform.newseye.eu/iiif/arbeiter_zeit...   \n",
       "1  arbeiter_zeitung  https://platform.newseye.eu/iiif/arbeiter_zeit...   \n",
       "2  arbeiter_zeitung  https://platform.newseye.eu/iiif/arbeiter_zeit...   \n",
       "\n",
       "   relevancy                                               text  \n",
       "0          4  * Betrug an Auswanderern. Am 5. d. abends wurd...  \n",
       "1          4  Die maßlosen Schurkereien der Grenzpolizeibehö...  \n",
       "2          4  * Das Opfer von Bauernfüngern. Der Arbeiter Ar...  "
      ]
     },
     "execution_count": 3,
     "metadata": {},
     "output_type": "execute_result"
    }
   ],
   "source": [
    "df = pd.read_csv('export_classification_emigration_new_03_07_2020_08_49.csv')\n",
    "\n",
    "print(df.shape)\n",
    "df.head(3)"
   ]
  },
  {
   "cell_type": "markdown",
   "metadata": {},
   "source": [
    "### Check the distribution of your annotated categories. \n",
    "Each category is assignet to a number: \n",
    "\n",
    "0 = Advertisements\n",
    " \n",
    "1 = News\n",
    "\n",
    "2 = Culture, Literature, Stories, and Letters\n",
    "\n",
    "3 = Appeals, Donations, and (help) informations\n",
    "\n",
    "4 = Crime\n",
    "\n",
    "6 = Finance\n",
    "\n",
    "7 = Statistic\n",
    "\n",
    "These categories where specifically chosen for a collection on emigration between 1850 and 1950. For this corpus, about 80 articles for each categorie were sufficient to train a model that delivers good results. However, it is important that the corpus is representative for this specific topic. "
   ]
  },
  {
   "cell_type": "code",
   "execution_count": 4,
   "metadata": {},
   "outputs": [
    {
     "data": {
      "text/plain": [
       "<matplotlib.axes._subplots.AxesSubplot at 0x1e557c390c8>"
      ]
     },
     "execution_count": 4,
     "metadata": {},
     "output_type": "execute_result"
    },
    {
     "data": {
      "image/png": "[encoded data removed]",
      "text/plain": [
       "<Figure size 432x288 with 1 Axes>"
      ]
     },
     "metadata": {
      "needs_background": "light"
     },
     "output_type": "display_data"
    }
   ],
   "source": [
    "df.relevancy.value_counts().plot(kind='bar')"
   ]
  },
  {
   "cell_type": "markdown",
   "metadata": {},
   "source": [
    "## Clean and tokenize the text (pre-processing) <a class=\"anchor\" id=\"5-bullet\"></a>\n",
    "\n",
    "Before you can start with the training fo the topic models, you have to clean the text of your newspaper articles. The follwing functions remove punctuations, lower case the text, remove stop words and lemmatize the text. \n",
    "\n",
    "#### Stop words: \n",
    "You can change the language used for the stop words. You can also add your own stop words or other words you would like to ignore. It helps to ignore your search keywords. "
   ]
  },
  {
   "cell_type": "code",
   "execution_count": 5,
   "metadata": {},
   "outputs": [],
   "source": [
    "# Functions to clean, tokenize, and lemmatize the data\n",
    "def initial_clean(text):\n",
    "    text = re.sub(r'[^\\w\\s]','',text)\n",
    "    text = text.lower() \n",
    "    text = nltk.word_tokenize(text)\n",
    "    return text\n",
    "\n",
    "stop_words = stopwords.words('german')#change the language here\n",
    "# add your onw stop words\n",
    "stop_words.extend(['auswanderer', 'auswanderung', 'auswanderern', 'kolonist', 'colonist', 'ansiedler', 'wurden', 'worden'])\n",
    "def remove_stop_words(text):\n",
    "    return [word for word in text if word not in stop_words]\n",
    "\n",
    "stemmer = PorterStemmer()\n",
    "def stem_words(text):\n",
    "    try:\n",
    "        text = [stemmer.stem(word) for word in text]\n",
    "        text = [word for word in text if len(word) > 1] \n",
    "    except IndexError: \n",
    "        pass\n",
    "    return text\n",
    "\n",
    "def apply_all(text):\n",
    "    return stem_words(remove_stop_words(initial_clean(text)))"
   ]
  },
  {
   "cell_type": "code",
   "execution_count": 6,
   "metadata": {},
   "outputs": [],
   "source": [
    "df['tokenized'] = df['text'].apply(apply_all) "
   ]
  },
  {
   "cell_type": "markdown",
   "metadata": {},
   "source": [
    "## Have a look at your data <a class=\"anchor\" id=\"6-bullet\"></a>\n",
    "\n",
    "Check out, if everything went alright so far. Have a look at the number of words and their frequency distribution."
   ]
  },
  {
   "cell_type": "code",
   "execution_count": 7,
   "metadata": {},
   "outputs": [
    {
     "data": {
      "text/plain": [
       "'The number of unique words is 17963'"
      ]
     },
     "execution_count": 7,
     "metadata": {},
     "output_type": "execute_result"
    }
   ],
   "source": [
    "# first get a list of all words\n",
    "all_words = [word for item in list(df['tokenized']) for word in item]\n",
    "# use nltk fdist to get a frequency distribution of all words\n",
    "fdist = FreqDist(all_words)\n",
    "f\"The number of unique words is {len(fdist)}\""
   ]
  },
  {
   "cell_type": "code",
   "execution_count": 8,
   "metadata": {},
   "outputs": [
    {
     "name": "stdout",
     "output_type": "stream",
     "text": [
      "length of list: 672\n",
      "average document length: 75.86309523809524\n",
      "minimum document length: 4\n",
      "maximum document length: 602\n"
     ]
    }
   ],
   "source": [
    "# document length\n",
    "df['doc_len'] = df['tokenized'].apply(lambda x: len(x))\n",
    "doc_lengths = list(df['doc_len'])\n",
    "df.drop(labels='doc_len', axis=1, inplace=True)\n",
    "\n",
    "print(f\"length of list: {len(doc_lengths)}\")\n",
    "print(f\"average document length: {np.average(doc_lengths)}\")\n",
    "print(f\"minimum document length: {min(doc_lengths)}\")\n",
    "print(f\"maximum document length: {max(doc_lengths)}\")"
   ]
  },
  {
   "cell_type": "markdown",
   "metadata": {},
   "source": [
    "\n",
    "## Use your dataset to create a training corpus and test corpus <a class=\"anchor\" id=\"7-bullet\"></a>\n",
    "\n",
    "Before we use our method on a big collection, we use our manual annotated dataset to train the models and to find relevant and non-relevant articles. This helps to control the output (you can compare the output with your manual annotation and see if the program worked correctly) and to adapt the code in order to get the best results for your own collection. \n",
    "\n",
    "You can change the size of training and testing corpus by changing the number in following line: msk = np.random.rand(len(df)) < 0.899\n"
   ]
  },
  {
   "cell_type": "code",
   "execution_count": 9,
   "metadata": {},
   "outputs": [],
   "source": [
    "# create a mask of binary values\n",
    "msk = np.random.rand(len(df)) < 0.850"
   ]
  },
  {
   "cell_type": "code",
   "execution_count": 10,
   "metadata": {},
   "outputs": [],
   "source": [
    "train_df = df[msk]\n",
    "train_df.reset_index(drop=True,inplace=True)\n",
    "\n",
    "test_df = df[~msk]\n",
    "test_df.reset_index(drop=True,inplace=True)"
   ]
  },
  {
   "cell_type": "code",
   "execution_count": 11,
   "metadata": {},
   "outputs": [
    {
     "name": "stdout",
     "output_type": "stream",
     "text": [
      "672 560 112\n"
     ]
    }
   ],
   "source": [
    "print(len(df),len(train_df),len(test_df))"
   ]
  },
  {
   "cell_type": "markdown",
   "metadata": {},
   "source": [
    "### Make sure all categories have the same size\n",
    "Therefore we shorten the training corpus to the number of the smallest category in the corpus. This is important so that the results are not distorted by over- or under-representation of a category. "
   ]
  },
  {
   "cell_type": "code",
   "execution_count": 12,
   "metadata": {},
   "outputs": [],
   "source": [
    "val = train_df.relevancy.value_counts().min()\n",
    "train_df = train_df.groupby('relevancy').head(val)"
   ]
  },
  {
   "cell_type": "code",
   "execution_count": 13,
   "metadata": {},
   "outputs": [
    {
     "data": {
      "text/plain": [
       "<matplotlib.axes._subplots.AxesSubplot at 0x1e557c36148>"
      ]
     },
     "execution_count": 13,
     "metadata": {},
     "output_type": "execute_result"
    },
    {
     "data": {
      "image/png": "[encoded data removed]",
      "text/plain": [
       "<Figure size 432x288 with 1 Axes>"
      ]
     },
     "metadata": {
      "needs_background": "light"
     },
     "output_type": "display_data"
    }
   ],
   "source": [
    "train_df.relevancy.value_counts().plot(kind='bar')"
   ]
  },
  {
   "cell_type": "markdown",
   "metadata": {},
   "source": [
    "### Have a look at the training corpus\n",
    "Make sure there are enough articles of each category represented in the training corpus. The training corpus will be used to mesure the score of the classfication results by using the manual assigned information. "
   ]
  },
  {
   "cell_type": "code",
   "execution_count": 14,
   "metadata": {},
   "outputs": [
    {
     "data": {
      "text/plain": [
       "<matplotlib.axes._subplots.AxesSubplot at 0x1e55b3193c8>"
      ]
     },
     "execution_count": 14,
     "metadata": {},
     "output_type": "execute_result"
    },
    {
     "data": {
      "image/png": "[encoded data removed]",
      "text/plain": [
       "<Figure size 432x288 with 1 Axes>"
      ]
     },
     "metadata": {
      "needs_background": "light"
     },
     "output_type": "display_data"
    }
   ],
   "source": [
    "test_df.relevancy.value_counts().plot(kind='bar')"
   ]
  },
  {
   "cell_type": "markdown",
   "metadata": {},
   "source": [
    "## Create topic models using your training corpus <a class=\"anchor\" id=\"8-bullet\"></a>\n",
    "\n",
    "The function \"train_lda\" trains the lda model. You can change the parameters like the number of topics or chunksize, but also the adjustment of the parameters alpha and eta can strongly influence the results. Note that low alpha means that each document is represented by only a small number of topics and vice versa. And a low eta means that each topic is represented by only a small number of words and vice versa. A high number of topics is best for text classification. Of course, this can change from research question to research question, and it makes sense to train your models with a changing number of topics to find out which quantity is best suited for your collection.\n",
    "\n",
    "The number of passes is high as well. Since this is a small dataset, the distributions should be stabilized. \n",
    "\n",
    "It is also important to note that changing the parameters may lead to better results for some categories but worse results for others. If an overall good result is important, the parameters should be adjusted accordingly. On the other hand, if a good result is important for certain categories, you can simply ignore the results of those you do not need. The score is calculated after the model has been trained and the collection classified, so to find out which parameters work best for your collection, you just need to try a few times and see what happens when you change the parameters.  Every collection is different.   \n"
   ]
  },
  {
   "cell_type": "code",
   "execution_count": 15,
   "metadata": {},
   "outputs": [],
   "source": [
    "dictionary = corpora.Dictionary(train_df['tokenized'])"
   ]
  },
  {
   "cell_type": "code",
   "execution_count": 16,
   "metadata": {},
   "outputs": [],
   "source": [
    "#Make a BOW for every document (Bag of words)\n",
    "def document_to_bow(df):\n",
    "    train_df['bow'] = list(map(lambda doc: dictionary.doc2bow(doc), train_df['tokenized']))\n",
    "    \n",
    "document_to_bow(train_df)"
   ]
  },
  {
   "cell_type": "code",
   "execution_count": 17,
   "metadata": {},
   "outputs": [],
   "source": [
    "corpus = train_df.bow"
   ]
  },
  {
   "cell_type": "code",
   "execution_count": 18,
   "metadata": {},
   "outputs": [],
   "source": [
    "def train_lda(data):\n",
    "    num_topics = 500\n",
    "    chunksize = 8000\n",
    "    t1 = time.time()\n",
    "    lda = LdaModel(corpus=corpus, num_topics=num_topics, id2word=dictionary,\n",
    "                    chunksize=chunksize, minimum_probability=0.0, passes=50, iterations=700, per_word_topics=True)\n",
    "    return dictionary,corpus,lda"
   ]
  },
  {
   "cell_type": "markdown",
   "metadata": {},
   "source": [
    "#### The training of the topic models takes a few minutes. But it is worh the waiting time"
   ]
  },
  {
   "cell_type": "code",
   "execution_count": 19,
   "metadata": {},
   "outputs": [
    {
     "name": "stdout",
     "output_type": "stream",
     "text": [
      "Wall time: 4min 12s\n"
     ]
    }
   ],
   "source": [
    "%%time\n",
    "dictionary,corpus,lda = train_lda(train_df)"
   ]
  },
  {
   "cell_type": "markdown",
   "metadata": {},
   "source": [
    "## Have a look at your topics <a class=\"anchor\" id=\"9-bullet\"></a>\n",
    "Inspect the outcome of your topics. You can see all your topics in changing the topicid to the number of topic you want to see. You can also adapt the number of tokens (topn) by changing the number. "
   ]
  },
  {
   "cell_type": "code",
   "execution_count": 20,
   "metadata": {},
   "outputs": [
    {
     "data": {
      "text/plain": [
       "[('einwandererherberg', 7.39153e-05),\n",
       " ('kennzeichen', 7.39153e-05),\n",
       " ('konsul', 7.39153e-05),\n",
       " ('krain', 7.39153e-05),\n",
       " ('herberg', 7.39153e-05),\n",
       " ('inserirt', 7.39153e-05),\n",
       " ('lefar', 7.39153e-05),\n",
       " ('durchstreift', 7.39153e-05),\n",
       " ('dazum', 7.39153e-05),\n",
       " ('augen', 7.39153e-05),\n",
       " ('answandererssohn', 7.39153e-05),\n",
       " ('adelsberg', 7.39153e-05),\n",
       " ('zimmerund', 7.39153e-05),\n",
       " ('74134', 7.39153e-05),\n",
       " ('ueper', 7.39153e-05),\n",
       " ('schulkanzlei', 7.39153e-05),\n",
       " ('portngiesisch', 7.39153e-05),\n",
       " ('elfjährig', 7.39153e-05),\n",
       " ('lchranfaht', 7.39153e-05),\n",
       " ('hiesig', 7.39153e-05)]"
      ]
     },
     "execution_count": 20,
     "metadata": {},
     "output_type": "execute_result"
    }
   ],
   "source": [
    "lda.show_topic(topicid=0, topn=20)"
   ]
  },
  {
   "cell_type": "markdown",
   "metadata": {},
   "source": [
    "## Now it is time to create the feature vector <a class=\"anchor\" id=\"10-bullet\"></a>\n",
    "Freature vectore is an n-dimensional vector of numerical features that represent some object. Many algorithms in machine learning require a numerical representation of objects, since such representations facilitate processing and statistical analysis."
   ]
  },
  {
   "cell_type": "code",
   "execution_count": 21,
   "metadata": {},
   "outputs": [],
   "source": [
    "def document_to_lda_features(lda, document):\n",
    "    \"\"\" Transforms a bag of words document to features.\n",
    "    It returns the proportion of how much each topic was\n",
    "    present in the document.\n",
    "    \"\"\"\n",
    "    topic_importances = lda.get_document_topics(document, minimum_probability=0)\n",
    "    topic_importances = np.array(topic_importances)\n",
    "    return topic_importances[:,1]\n",
    "\n",
    "train_df['lda_features'] = list(map(lambda doc:\n",
    "                                      document_to_lda_features(lda, doc),\n",
    "                                      train_df.bow))"
   ]
  },
  {
   "cell_type": "code",
   "execution_count": 22,
   "metadata": {},
   "outputs": [],
   "source": [
    "ads_topic_distribution = train_df.loc[train_df.relevancy == 0, 'lda_features'].mean()\n",
    "news_topic_distribution = train_df.loc[train_df.relevancy == 1, 'lda_features'].mean()\n",
    "culture_topic_distribution = train_df.loc[train_df.relevancy == 2, 'lda_features'].mean()\n",
    "appeals_topic_distribution = train_df.loc[train_df.relevancy == 3, 'lda_features'].mean()\n",
    "crime_topic_distribution = train_df.loc[train_df.relevancy == 4, 'lda_features'].mean()\n",
    "finances_topic_distribution = train_df.loc[train_df.relevancy == 6, 'lda_features'].mean()\n",
    "statistic_topic_distribution = train_df.loc[train_df.relevancy == 7, 'lda_features'].mean()"
   ]
  },
  {
   "cell_type": "markdown",
   "metadata": {},
   "source": [
    "## Have a look at the top words for each category <a class=\"anchor\" id=\"11-bullet\"></a>"
   ]
  },
  {
   "cell_type": "code",
   "execution_count": 23,
   "metadata": {},
   "outputs": [],
   "source": [
    "def get_topic_top_words(lda_model, topic_id, nr_top_words=5):\n",
    "    \"\"\" Returns the top words for topic_id from lda_model.\n",
    "    \"\"\"\n",
    "    id_tuples = lda_model.get_topic_terms(topic_id, topn=nr_top_words)\n",
    "    word_ids = np.array(id_tuples)[:,0]\n",
    "    words = map(lambda id_: lda_model.id2word[id_], word_ids)\n",
    "    return words"
   ]
  },
  {
   "cell_type": "code",
   "execution_count": 24,
   "metadata": {},
   "outputs": [
    {
     "name": "stdout",
     "output_type": "stream",
     "text": [
      "Looking up top words from top topics from ads.\n",
      "For topic 4, the top words are: gesuch, nähere, billig, ueberfahrt, bezahlen.\n",
      "For topic 229, the top words are: englisch, jahr, spanisch, verlust, mann.\n",
      "For topic 264, the top words are: wegen, verkaufen, bez, billig, gute.\n",
      "For topic 265, the top words are: nr, wurd, verhaftet, prater, stell.\n",
      "For topic 421, the top words are: sucht, geld, zukunft, bord, verzweiflung.\n",
      "\n",
      "Looking up top words from top topics from news.\n",
      "For topic 29, the top words are: method, jahr, ausland, monarchi, neue.\n",
      "For topic 53, the top words are: erblicken, notar, waggon, verfügt, rd.\n",
      "For topic 152, the top words are: deutschland, juden, jüdisch, jahr, personen.\n",
      "For topic 267, the top words are: nationaldemokrati, warschau, rußland, heißt, grabski.\n",
      "For topic 279, the top words are: fahrt, nachmittag, newyork, unterseeboot, italienisch.\n",
      "\n",
      "Looking up top words from top topics from culture.\n",
      "For topic 129, the top words are: alt, besser, jungen, vater, sebast.\n",
      "For topic 214, the top words are: uhr, vortragssa, münchener, ½8, künstler.\n",
      "For topic 269, the top words are: 10, 20, wegen, wurd, pfau.\n",
      "For topic 320, the top words are: mutter, drei, lernen, grindl, knaben.\n",
      "For topic 453, the top words are: amerika, visum, brief, not, arbeit.\n",
      "\n",
      "Looking up top words from top topics from appeals.\n",
      "For topic 13, the top words are: aufruf, verband, tausend, dr, elend.\n",
      "For topic 17, the top words are: auskunftsstel, markt, hoher, wien, kind.\n",
      "For topic 146, the top words are: freien, press, juni, armen, neuen.\n",
      "For topic 150, the top words are: 10, adolph, 40, samuel, dr.\n",
      "For topic 293, the top words are: 100, wien, 10, frau, 20.\n",
      "\n",
      "Looking up top words from top topics from crime.\n",
      "For topic 26, the top words are: aberm, untersuchung, wurd, verhaftet, agram.\n",
      "For topic 44, the top words are: ondik, turanski, geld, tür, wien.\n",
      "For topic 136, the top words are: heut, amerika, drei, telegraphisch, verhaftet.\n",
      "For topic 335, the top words are: kopp, szeker, wurd, wien, fuch.\n",
      "For topic 409, the top words are: gendarmen, gendarm, stellungspflichtigen, wurd, verhaftet.\n",
      "\n",
      "Looking up top words from top topics from finances.\n",
      "For topic 133, the top words are: angelegenheiten, polizisten, deutschen, sowi, legisl.\n",
      "For topic 161, the top words are: jahren, geldsendungen, staaten, zurückgegangen, wichtig.\n",
      "For topic 272, the top words are: guthaben, auswandererguthaben, inhab, veräußerung, ebenso.\n",
      "For topic 401, the top words are: österreich, wurd, ausstellung, pari, ausland.\n",
      "For topic 491, the top words are: millionen, kronen, jahr, zahlungsbilanz, wanderbewegung.\n",
      "\n",
      "Looking up top words from top topics from statistic.\n",
      "For topic 22, the top words are: personen, insgesamt, ausgewandert, jahr, vereinigten.\n",
      "For topic 83, the top words are: staaten, vereinigten, jahr, prozent, teil.\n",
      "For topic 152, the top words are: deutschland, juden, jüdisch, jahr, personen.\n",
      "For topic 372, the top words are: zahl, vorjahr, betrug, rückgang, oesterreich.\n",
      "For topic 377, the top words are: jahr, 1937, 1936, betrug, personen.\n",
      "\n"
     ]
    }
   ],
   "source": [
    "for relevancy, distribution in zip(['ads', 'news', 'culture', 'appeals', 'crime', 'finances', 'statistic'], [ads_topic_distribution, news_topic_distribution, culture_topic_distribution, appeals_topic_distribution, crime_topic_distribution, finances_topic_distribution, statistic_topic_distribution]):\n",
    "    print(\"Looking up top words from top topics from {}.\".format(relevancy))\n",
    "    for x in sorted(np.argsort(distribution)[-5:]):\n",
    "        top_words = get_topic_top_words(lda, x)\n",
    "        print(\"For topic {}, the top words are: {}.\".format(x, \", \".join(top_words)))\n",
    "    print(\"\")"
   ]
  },
  {
   "cell_type": "markdown",
   "metadata": {},
   "source": [
    "## Hyperparameter tuning <a class=\"anchor\" id=\"12-bullet\"></a>\n",
    "After transforming the documents into features, it is important to apply a few supervised classifiers to be able to predict what text belongs to which category."
   ]
  },
  {
   "cell_type": "code",
   "execution_count": 25,
   "metadata": {},
   "outputs": [],
   "source": [
    "def get_cross_validated_model(model, param_grid, X, y, nr_folds=6):\n",
    "    \"\"\" Trains a model by doing a grid search combined with cross validation.\n",
    "    args:\n",
    "        model: your model\n",
    "        param_grid: dict of parameter values for the grid search\n",
    "    returns:\n",
    "        Model trained on entire dataset with hyperparameters chosen from best results in the grid search.\n",
    "    \"\"\"\n",
    "    # train the model (since the evaluation is based on the logloss, we'll use neg_log_loss here)\n",
    "    grid_cv = GridSearchCV(model, param_grid=param_grid, scoring='neg_log_loss', cv=nr_folds, n_jobs=-1, verbose=True)\n",
    "    best_model = grid_cv.fit(X, y)\n",
    "    # show top models with parameter values\n",
    "    result_df = pd.DataFrame(best_model.cv_results_)\n",
    "    show_columns = ['mean_test_score', 'rank_test_score']\n",
    "    for col in result_df.columns:\n",
    "        if col.startswith('param_'):\n",
    "            show_columns.append(col)\n",
    "    display(result_df[show_columns].sort_values(by='rank_test_score').head())\n",
    "    return best_model"
   ]
  },
  {
   "cell_type": "code",
   "execution_count": 26,
   "metadata": {},
   "outputs": [],
   "source": [
    "# we first have to transform every entry\n",
    "X_train_lda = np.array(list(map(np.array, train_df.lda_features)))\n",
    "\n"
   ]
  },
  {
   "cell_type": "markdown",
   "metadata": {},
   "source": [
    "## Using the test corpus  <a class=\"anchor\" id=\"13-bullet\"></a>\n",
    "First, have a look at your test corpus"
   ]
  },
  {
   "cell_type": "code",
   "execution_count": 27,
   "metadata": {},
   "outputs": [
    {
     "data": {
      "text/html": [
       "<div>\n",
       "<style scoped>\n",
       "    .dataframe tbody tr th:only-of-type {\n",
       "        vertical-align: middle;\n",
       "    }\n",
       "\n",
       "    .dataframe tbody tr th {\n",
       "        vertical-align: top;\n",
       "    }\n",
       "\n",
       "    .dataframe thead th {\n",
       "        text-align: right;\n",
       "    }\n",
       "</style>\n",
       "<table border=\"1\" class=\"dataframe\">\n",
       "  <thead>\n",
       "    <tr style=\"text-align: right;\">\n",
       "      <th></th>\n",
       "      <th>id</th>\n",
       "      <th>language</th>\n",
       "      <th>date</th>\n",
       "      <th>newspaper_id</th>\n",
       "      <th>iiif_url</th>\n",
       "      <th>relevancy</th>\n",
       "      <th>text</th>\n",
       "      <th>tokenized</th>\n",
       "    </tr>\n",
       "  </thead>\n",
       "  <tbody>\n",
       "    <tr>\n",
       "      <td>0</td>\n",
       "      <td>arbeiter_zeitung_aze19130610_article_250</td>\n",
       "      <td>de</td>\n",
       "      <td>1913-06-10T00:00:00Z</td>\n",
       "      <td>arbeiter_zeitung</td>\n",
       "      <td>https://platform.newseye.eu/iiif/arbeiter_zeit...</td>\n",
       "      <td>6</td>\n",
       "      <td>Volkswirtschaft.\\nAuswanderung. Die Wirtschaft...</td>\n",
       "      <td>[volkswirtschaft, wirtschaftskris, gewaltig, s...</td>\n",
       "    </tr>\n",
       "    <tr>\n",
       "      <td>1</td>\n",
       "      <td>illustrierte_kronen_zeitung_krz19130630_articl...</td>\n",
       "      <td>de</td>\n",
       "      <td>1913-06-30T00:00:00Z</td>\n",
       "      <td>illustrierte_kronen_zeitung</td>\n",
       "      <td>https://platform.newseye.eu/iiif/illustrierte_...</td>\n",
       "      <td>4</td>\n",
       "      <td>(Der Raubmordversuch an einem Auswanderer.) Un...</td>\n",
       "      <td>[raubmordversuch, verdacht, raubmordversuch, b...</td>\n",
       "    </tr>\n",
       "    <tr>\n",
       "      <td>2</td>\n",
       "      <td>arbeiter_zeitung_aze19151224_article_31</td>\n",
       "      <td>de</td>\n",
       "      <td>1915-12-24T00:00:00Z</td>\n",
       "      <td>arbeiter_zeitung</td>\n",
       "      <td>https://platform.newseye.eu/iiif/arbeiter_zeit...</td>\n",
       "      <td>6</td>\n",
       "      <td>Für das Budgetjahr 1914/15 wurde der Voranschl...</td>\n",
       "      <td>[budgetjahr, 191415, wurd, voranschlag, schatz...</td>\n",
       "    </tr>\n",
       "    <tr>\n",
       "      <td>3</td>\n",
       "      <td>illustrierte_kronen_zeitung_krz19120420_articl...</td>\n",
       "      <td>de</td>\n",
       "      <td>1912-04-20T00:00:00Z</td>\n",
       "      <td>illustrierte_kronen_zeitung</td>\n",
       "      <td>https://platform.newseye.eu/iiif/illustrierte_...</td>\n",
       "      <td>4</td>\n",
       "      <td>Aus Krakau wird telegraphiert: Außer den berei...</td>\n",
       "      <td>[krakau, telegraphiert, außer, bereit, krakau,...</td>\n",
       "    </tr>\n",
       "    <tr>\n",
       "      <td>4</td>\n",
       "      <td>arbeiter_zeitung_aze19130608_article_298</td>\n",
       "      <td>de</td>\n",
       "      <td>1913-06-08T00:00:00Z</td>\n",
       "      <td>arbeiter_zeitung</td>\n",
       "      <td>https://platform.newseye.eu/iiif/arbeiter_zeit...</td>\n",
       "      <td>4</td>\n",
       "      <td>(Auswanderer bestohlen.) Am 30. Jänner erschie...</td>\n",
       "      <td>[bestohlen, 30, jänner, erschien, hiesigen, ze...</td>\n",
       "    </tr>\n",
       "  </tbody>\n",
       "</table>\n",
       "</div>"
      ],
      "text/plain": [
       "                                                  id language  \\\n",
       "0           arbeiter_zeitung_aze19130610_article_250       de   \n",
       "1  illustrierte_kronen_zeitung_krz19130630_articl...       de   \n",
       "2            arbeiter_zeitung_aze19151224_article_31       de   \n",
       "3  illustrierte_kronen_zeitung_krz19120420_articl...       de   \n",
       "4           arbeiter_zeitung_aze19130608_article_298       de   \n",
       "\n",
       "                   date                 newspaper_id  \\\n",
       "0  1913-06-10T00:00:00Z             arbeiter_zeitung   \n",
       "1  1913-06-30T00:00:00Z  illustrierte_kronen_zeitung   \n",
       "2  1915-12-24T00:00:00Z             arbeiter_zeitung   \n",
       "3  1912-04-20T00:00:00Z  illustrierte_kronen_zeitung   \n",
       "4  1913-06-08T00:00:00Z             arbeiter_zeitung   \n",
       "\n",
       "                                            iiif_url  relevancy  \\\n",
       "0  https://platform.newseye.eu/iiif/arbeiter_zeit...          6   \n",
       "1  https://platform.newseye.eu/iiif/illustrierte_...          4   \n",
       "2  https://platform.newseye.eu/iiif/arbeiter_zeit...          6   \n",
       "3  https://platform.newseye.eu/iiif/illustrierte_...          4   \n",
       "4  https://platform.newseye.eu/iiif/arbeiter_zeit...          4   \n",
       "\n",
       "                                                text  \\\n",
       "0  Volkswirtschaft.\\nAuswanderung. Die Wirtschaft...   \n",
       "1  (Der Raubmordversuch an einem Auswanderer.) Un...   \n",
       "2  Für das Budgetjahr 1914/15 wurde der Voranschl...   \n",
       "3  Aus Krakau wird telegraphiert: Außer den berei...   \n",
       "4  (Auswanderer bestohlen.) Am 30. Jänner erschie...   \n",
       "\n",
       "                                           tokenized  \n",
       "0  [volkswirtschaft, wirtschaftskris, gewaltig, s...  \n",
       "1  [raubmordversuch, verdacht, raubmordversuch, b...  \n",
       "2  [budgetjahr, 191415, wurd, voranschlag, schatz...  \n",
       "3  [krakau, telegraphiert, außer, bereit, krakau,...  \n",
       "4  [bestohlen, 30, jänner, erschien, hiesigen, ze...  "
      ]
     },
     "execution_count": 27,
     "metadata": {},
     "output_type": "execute_result"
    }
   ],
   "source": [
    "test_df.head()"
   ]
  },
  {
   "cell_type": "code",
   "execution_count": 28,
   "metadata": {},
   "outputs": [],
   "source": [
    "# Pre-process your test corpus using the same function than for the train corpus\n",
    "test_df['tokenized'] = test_df['text'].apply(apply_all) "
   ]
  },
  {
   "cell_type": "markdown",
   "metadata": {},
   "source": [
    "#### Make a bag of words for every document"
   ]
  },
  {
   "cell_type": "code",
   "execution_count": 29,
   "metadata": {},
   "outputs": [],
   "source": [
    "def document_to_bow(df):\n",
    "    df['bow'] = list(map(lambda doc: dictionary.doc2bow(doc), test_df['tokenized']))\n",
    "    \n",
    "document_to_bow(test_df)"
   ]
  },
  {
   "cell_type": "code",
   "execution_count": 30,
   "metadata": {},
   "outputs": [],
   "source": [
    "# Get feature vectores for your test corpu\n",
    "test_df['lda_features'] = list(map(lambda doc:\n",
    "                                     document_to_lda_features(lda, doc),\n",
    "                                     test_df.bow))"
   ]
  },
  {
   "cell_type": "code",
   "execution_count": 31,
   "metadata": {},
   "outputs": [],
   "source": [
    "X_test_lda = np.array(list(map(np.array, test_df.lda_features)))"
   ]
  },
  {
   "cell_type": "code",
   "execution_count": 32,
   "metadata": {},
   "outputs": [],
   "source": [
    "# store all models in a dictionary\n",
    "models = dict()"
   ]
  },
  {
   "cell_type": "markdown",
   "metadata": {},
   "source": [
    "## Logistic Regression <a class=\"anchor\" id=\"14-bullet\"></a>\n",
    "Logistic Regression is a Machine Learning classification algorithm that is used to predict the probability of a categorical dependent variable. In logistic regression, the dependent variable is a binary variable that contains data coded as 1 (yes, success, etc.) or 0 (no, failure, etc.). In other words, the logistic regression model predicts P(Y=1) as a function of X."
   ]
  },
  {
   "cell_type": "code",
   "execution_count": 33,
   "metadata": {},
   "outputs": [
    {
     "name": "stdout",
     "output_type": "stream",
     "text": [
      "Fitting 6 folds for each of 2 candidates, totalling 12 fits\n"
     ]
    },
    {
     "name": "stderr",
     "output_type": "stream",
     "text": [
      "[Parallel(n_jobs=-1)]: Using backend LokyBackend with 8 concurrent workers.\n",
      "[Parallel(n_jobs=-1)]: Done  10 out of  12 | elapsed:    3.8s remaining:    0.7s\n",
      "[Parallel(n_jobs=-1)]: Done  12 out of  12 | elapsed:    3.9s finished\n"
     ]
    },
    {
     "data": {
      "text/html": [
       "<div>\n",
       "<style scoped>\n",
       "    .dataframe tbody tr th:only-of-type {\n",
       "        vertical-align: middle;\n",
       "    }\n",
       "\n",
       "    .dataframe tbody tr th {\n",
       "        vertical-align: top;\n",
       "    }\n",
       "\n",
       "    .dataframe thead th {\n",
       "        text-align: right;\n",
       "    }\n",
       "</style>\n",
       "<table border=\"1\" class=\"dataframe\">\n",
       "  <thead>\n",
       "    <tr style=\"text-align: right;\">\n",
       "      <th></th>\n",
       "      <th>mean_test_score</th>\n",
       "      <th>rank_test_score</th>\n",
       "      <th>param_penalty</th>\n",
       "    </tr>\n",
       "  </thead>\n",
       "  <tbody>\n",
       "    <tr>\n",
       "      <td>1</td>\n",
       "      <td>-1.678815</td>\n",
       "      <td>1</td>\n",
       "      <td>l2</td>\n",
       "    </tr>\n",
       "    <tr>\n",
       "      <td>0</td>\n",
       "      <td>NaN</td>\n",
       "      <td>2</td>\n",
       "      <td>l1</td>\n",
       "    </tr>\n",
       "  </tbody>\n",
       "</table>\n",
       "</div>"
      ],
      "text/plain": [
       "   mean_test_score  rank_test_score param_penalty\n",
       "1        -1.678815                1            l2\n",
       "0              NaN                2            l1"
      ]
     },
     "metadata": {},
     "output_type": "display_data"
    }
   ],
   "source": [
    "lr = LogisticRegression()\n",
    "\n",
    "param_grid = {'penalty': ['l1', 'l2']}\n",
    "\n",
    "best_lr_lda = get_cross_validated_model(lr, param_grid, X_train_lda, train_df.relevancy)\n",
    "\n",
    "models['best_lr_lda'] = best_lr_lda"
   ]
  },
  {
   "cell_type": "markdown",
   "metadata": {},
   "source": [
    "## Now it is time to make the classifications  <a class=\"anchor\" id=\"15-bullet\"></a>\n",
    "First we get a data frame with the values for each category. The category with the highest values is the category to which the item is assigned. \n"
   ]
  },
  {
   "cell_type": "code",
   "execution_count": 34,
   "metadata": {},
   "outputs": [],
   "source": [
    "submission_predictions = best_lr_lda.predict_proba(X_test_lda)"
   ]
  },
  {
   "cell_type": "code",
   "execution_count": 35,
   "metadata": {},
   "outputs": [],
   "source": [
    "result= np.append(test_df.relevancy.values.reshape(-1,1), submission_predictions, axis=1)"
   ]
  },
  {
   "cell_type": "code",
   "execution_count": 36,
   "metadata": {},
   "outputs": [],
   "source": [
    "submission_df = pd.DataFrame(data=result, columns=['relevancy', 'ads', 'news', 'culture', 'appeals', 'crime', 'finance', 'statistic'])"
   ]
  },
  {
   "cell_type": "markdown",
   "metadata": {},
   "source": [
    "#### Have a look if everything workded correctly\n",
    "The first article contains the manual annotation 4.0, which means that this article belongs to the crime category. As you can see, the highest value for this row is in the column of crime. So this article has been correctly classified. To see how good the classification worked, we calculate the score (precision) for each category in the test corpus as well as the overall score.  "
   ]
  },
  {
   "cell_type": "code",
   "execution_count": 37,
   "metadata": {},
   "outputs": [
    {
     "data": {
      "text/html": [
       "<div>\n",
       "<style scoped>\n",
       "    .dataframe tbody tr th:only-of-type {\n",
       "        vertical-align: middle;\n",
       "    }\n",
       "\n",
       "    .dataframe tbody tr th {\n",
       "        vertical-align: top;\n",
       "    }\n",
       "\n",
       "    .dataframe thead th {\n",
       "        text-align: right;\n",
       "    }\n",
       "</style>\n",
       "<table border=\"1\" class=\"dataframe\">\n",
       "  <thead>\n",
       "    <tr style=\"text-align: right;\">\n",
       "      <th></th>\n",
       "      <th>relevancy</th>\n",
       "      <th>ads</th>\n",
       "      <th>news</th>\n",
       "      <th>culture</th>\n",
       "      <th>appeals</th>\n",
       "      <th>crime</th>\n",
       "      <th>finance</th>\n",
       "      <th>statistic</th>\n",
       "    </tr>\n",
       "  </thead>\n",
       "  <tbody>\n",
       "    <tr>\n",
       "      <td>0</td>\n",
       "      <td>6.0</td>\n",
       "      <td>0.127535</td>\n",
       "      <td>0.159277</td>\n",
       "      <td>0.159920</td>\n",
       "      <td>0.103004</td>\n",
       "      <td>0.126480</td>\n",
       "      <td>0.168814</td>\n",
       "      <td>0.154970</td>\n",
       "    </tr>\n",
       "    <tr>\n",
       "      <td>1</td>\n",
       "      <td>4.0</td>\n",
       "      <td>0.181632</td>\n",
       "      <td>0.118575</td>\n",
       "      <td>0.116632</td>\n",
       "      <td>0.092772</td>\n",
       "      <td>0.277228</td>\n",
       "      <td>0.106490</td>\n",
       "      <td>0.106671</td>\n",
       "    </tr>\n",
       "    <tr>\n",
       "      <td>2</td>\n",
       "      <td>6.0</td>\n",
       "      <td>0.140457</td>\n",
       "      <td>0.141895</td>\n",
       "      <td>0.137623</td>\n",
       "      <td>0.115970</td>\n",
       "      <td>0.133035</td>\n",
       "      <td>0.184489</td>\n",
       "      <td>0.146530</td>\n",
       "    </tr>\n",
       "    <tr>\n",
       "      <td>3</td>\n",
       "      <td>4.0</td>\n",
       "      <td>0.131884</td>\n",
       "      <td>0.142955</td>\n",
       "      <td>0.133277</td>\n",
       "      <td>0.090987</td>\n",
       "      <td>0.249891</td>\n",
       "      <td>0.127465</td>\n",
       "      <td>0.123541</td>\n",
       "    </tr>\n",
       "    <tr>\n",
       "      <td>4</td>\n",
       "      <td>4.0</td>\n",
       "      <td>0.131753</td>\n",
       "      <td>0.152709</td>\n",
       "      <td>0.172167</td>\n",
       "      <td>0.101761</td>\n",
       "      <td>0.198857</td>\n",
       "      <td>0.126097</td>\n",
       "      <td>0.116656</td>\n",
       "    </tr>\n",
       "  </tbody>\n",
       "</table>\n",
       "</div>"
      ],
      "text/plain": [
       "   relevancy       ads      news   culture   appeals     crime   finance  \\\n",
       "0        6.0  0.127535  0.159277  0.159920  0.103004  0.126480  0.168814   \n",
       "1        4.0  0.181632  0.118575  0.116632  0.092772  0.277228  0.106490   \n",
       "2        6.0  0.140457  0.141895  0.137623  0.115970  0.133035  0.184489   \n",
       "3        4.0  0.131884  0.142955  0.133277  0.090987  0.249891  0.127465   \n",
       "4        4.0  0.131753  0.152709  0.172167  0.101761  0.198857  0.126097   \n",
       "\n",
       "   statistic  \n",
       "0   0.154970  \n",
       "1   0.106671  \n",
       "2   0.146530  \n",
       "3   0.123541  \n",
       "4   0.116656  "
      ]
     },
     "execution_count": 37,
     "metadata": {},
     "output_type": "execute_result"
    }
   ],
   "source": [
    "submission_df.head(5)"
   ]
  },
  {
   "cell_type": "markdown",
   "metadata": {},
   "source": [
    "## Calculate the score for each category as well as the overall score  <a class=\"anchor\" id=\"16-bullet\"></a>\n",
    "Repeat the calculation (topic models need sometimes several rounds) or adapt the code until you get a higher score than 80 percent. If you get a higher score than 80 percent, you can continue with your whole dataset."
   ]
  },
  {
   "cell_type": "code",
   "execution_count": 38,
   "metadata": {},
   "outputs": [],
   "source": [
    "max_num = submission_df.loc[:, submission_df.columns != 'relevancy'].max(axis=1)"
   ]
  },
  {
   "cell_type": "code",
   "execution_count": 39,
   "metadata": {
    "scrolled": false
   },
   "outputs": [
    {
     "name": "stdout",
     "output_type": "stream",
     "text": [
      "Your score for ads is: 1.0\n",
      "Your score for news is: 0.29411764705882354\n",
      "Your score for culture is: 0.6666666666666666\n",
      "Your score for appeals is: 1.0\n",
      "Your score for crime is: 0.8823529411764706\n",
      "Your score for finances is: 0.7058823529411765\n",
      "Your score for statistic is: 0.5263157894736842\n",
      "Your overall score is 0.725047913902403\n"
     ]
    }
   ],
   "source": [
    "\n",
    "df_ads = submission_df[['ads', 'relevancy']][submission_df['ads'].isin(max_num)]\n",
    "\n",
    "ads_list = []\n",
    "for key, value in df_ads.items(): \n",
    "    for rel in value: \n",
    "        if len(str(rel)) < 4:\n",
    "            ads_list.append(rel)\n",
    "\n",
    "ads_right = []\n",
    "ads_wrong =[]\n",
    "for num in ads_list: \n",
    "    if num == 0.0: \n",
    "        ads_right.append(num)\n",
    "    else: \n",
    "        ads_wrong.append(num)\n",
    "all_ = len(ads_right) + len(ads_wrong)\n",
    "ads_score = len(ads_right) / all_\n",
    "print(f\"Your score for ads is: {ads_score}\")\n",
    "\n",
    "df_news = submission_df[['news', 'relevancy']][submission_df['news'].isin(max_num)]\n",
    "\n",
    "\n",
    "news_list = []\n",
    "for key, value in df_news.items(): \n",
    "    for rel in value: \n",
    "        if len(str(rel)) < 4:\n",
    "            news_list.append(rel)\n",
    "\n",
    "news_right = []\n",
    "news_wrong =[]\n",
    "for num in news_list: \n",
    "    if num == 1.0: \n",
    "        news_right.append(num)\n",
    "    else: \n",
    "        news_wrong.append(num)\n",
    "all_ = len(news_right) + len(news_wrong)\n",
    "news_score = len(news_right) / all_\n",
    "print(f\"Your score for news is: {news_score}\")\n",
    "\n",
    "    \n",
    "df_culture = submission_df[['culture', 'relevancy']][submission_df['culture'].isin(max_num)]\n",
    "\n",
    "culture_list = []\n",
    "for key, value in df_culture.items(): \n",
    "    for rel in value: \n",
    "        if len(str(rel)) < 4:\n",
    "            culture_list.append(rel)\n",
    "\n",
    "culture_right = []\n",
    "culture_wrong =[]\n",
    "for num in culture_list: \n",
    "    if num == 2.0: \n",
    "        culture_right.append(num)\n",
    "    else: \n",
    "        culture_wrong.append(num)\n",
    "all_ = len(culture_right) + len(culture_wrong)\n",
    "culture_score = len(culture_right) / all_\n",
    "print(f\"Your score for culture is: {culture_score}\")\n",
    "\n",
    "df_appeals = submission_df[['appeals', 'relevancy']][submission_df['appeals'].isin(max_num)]\n",
    "\n",
    "appeals_list = []\n",
    "for key, value in df_appeals.items(): \n",
    "    for rel in value: \n",
    "        if len(str(rel)) < 4:\n",
    "            appeals_list.append(rel)\n",
    "\n",
    "appeals_right = []\n",
    "appeals_wrong =[]\n",
    "for num in appeals_list: \n",
    "    if num == 3.0: \n",
    "        appeals_right.append(num)\n",
    "    else: \n",
    "        appeals_wrong.append(num)\n",
    "all_ = len(appeals_right) + len(appeals_wrong)\n",
    "appeals_score = len(appeals_right) / all_\n",
    "print(f\"Your score for appeals is: {appeals_score}\")\n",
    "\n",
    "df_crime = submission_df[['crime', 'relevancy']][submission_df['crime'].isin(max_num)]\n",
    "\n",
    "crime_list = []\n",
    "for key, value in df_crime.items(): \n",
    "    for rel in value: \n",
    "        if len(str(rel)) < 4:\n",
    "            crime_list.append(rel)\n",
    "\n",
    "crime_right = []\n",
    "crime_wrong =[]\n",
    "for num in crime_list: \n",
    "    if num == 4.0: \n",
    "        crime_right.append(num)\n",
    "    else: \n",
    "        crime_wrong.append(num)\n",
    "all_ = len(crime_right) + len(crime_wrong)\n",
    "crime_score = len(crime_right) / all_\n",
    "print(f\"Your score for crime is: {crime_score}\")\n",
    "\n",
    "\n",
    "df_finances = submission_df[['finance', 'relevancy']][submission_df['finance'].isin(max_num)]\n",
    "\n",
    "finances_list = []\n",
    "for key, value in df_finances.items(): \n",
    "    for rel in value: \n",
    "        if len(str(rel)) < 4:\n",
    "            finances_list.append(rel)\n",
    "\n",
    "finances_right = []\n",
    "finances_wrong =[]\n",
    "for num in finances_list: \n",
    "    if num == 6.0: \n",
    "        finances_right.append(num)\n",
    "    else: \n",
    "        finances_wrong.append(num)\n",
    "all_ = len(finances_right) + len(finances_wrong)\n",
    "finance_score = len(finances_right) / all_\n",
    "print(f\"Your score for finances is: {finance_score}\")\n",
    "   \n",
    "df_statistic = submission_df[['statistic', 'relevancy']][submission_df['statistic'].isin(max_num)]\n",
    "\n",
    "statistic_list = []\n",
    "for key, value in df_statistic.items(): \n",
    "    for rel in value: \n",
    "        if len(str(rel)) < 4:\n",
    "            statistic_list.append(rel)\n",
    "\n",
    "statistic_right = []\n",
    "statistic_wrong =[]\n",
    "for num in statistic_list: \n",
    "    if num == 7.0: \n",
    "        statistic_right.append(num)\n",
    "    else: \n",
    "        statistic_wrong.append(num)\n",
    "all_ = len(statistic_right) + len(statistic_wrong)\n",
    "statistic_score = len(statistic_right) / all_\n",
    "print(f\"Your score for statistic is: {statistic_score}\")\n",
    "overall_score = (ads_score + news_score + culture_score + appeals_score + crime_score + finance_score + statistic_score) / 7\n",
    "\n",
    "print(f\"Your overall score is {overall_score}\")"
   ]
  },
  {
   "cell_type": "markdown",
   "metadata": {},
   "source": [
    "# If your overall score is higher than 80 percent, you can start to use your whole collection  <a class=\"anchor\" id=\"17-bullet\"></a>\n",
    "\n",
    "Start with importing your whole collection. Import the same collection twice for the futher processing. If you are mainly interested in one of the catecories, it makes sense to choose a model with a high score for that category. If you want a good overview of the distribution of the categories, a overall good score is more important. "
   ]
  },
  {
   "cell_type": "code",
   "execution_count": 40,
   "metadata": {},
   "outputs": [],
   "source": [
    "df_all = pd.read_csv('export_auswanderer_01_07_2020_13_38.csv', usecols = ['id','language','date','newspaper_id','iiif_url','text'])\n",
    "df_all_2 = pd.read_csv('export_auswanderer_01_07_2020_13_38.csv', usecols = ['id','language','date','newspaper_id','iiif_url','text'])\n"
   ]
  },
  {
   "cell_type": "markdown",
   "metadata": {},
   "source": [
    "### Have a look at your data"
   ]
  },
  {
   "cell_type": "code",
   "execution_count": 41,
   "metadata": {},
   "outputs": [
    {
     "data": {
      "text/html": [
       "<div>\n",
       "<style scoped>\n",
       "    .dataframe tbody tr th:only-of-type {\n",
       "        vertical-align: middle;\n",
       "    }\n",
       "\n",
       "    .dataframe tbody tr th {\n",
       "        vertical-align: top;\n",
       "    }\n",
       "\n",
       "    .dataframe thead th {\n",
       "        text-align: right;\n",
       "    }\n",
       "</style>\n",
       "<table border=\"1\" class=\"dataframe\">\n",
       "  <thead>\n",
       "    <tr style=\"text-align: right;\">\n",
       "      <th></th>\n",
       "      <th>id</th>\n",
       "      <th>language</th>\n",
       "      <th>date</th>\n",
       "      <th>newspaper_id</th>\n",
       "      <th>iiif_url</th>\n",
       "      <th>text</th>\n",
       "    </tr>\n",
       "  </thead>\n",
       "  <tbody>\n",
       "    <tr>\n",
       "      <td>0</td>\n",
       "      <td>illustrierte_kronen_zeitung_krz19131101_articl...</td>\n",
       "      <td>de</td>\n",
       "      <td>1913-11-01T00:00:00Z</td>\n",
       "      <td>illustrierte_kronen_zeitung</td>\n",
       "      <td>https://platform.newseye.eu/iiif/illustrierte_...</td>\n",
       "      <td>(Angehaltene Auswanderer.) In Prag wurden\\nges...</td>\n",
       "    </tr>\n",
       "    <tr>\n",
       "      <td>1</td>\n",
       "      <td>illustrierte_kronen_zeitung_krz19331108_articl...</td>\n",
       "      <td>de</td>\n",
       "      <td>1933-11-08T00:00:00Z</td>\n",
       "      <td>illustrierte_kronen_zeitung</td>\n",
       "      <td>https://platform.newseye.eu/iiif/illustrierte_...</td>\n",
       "      <td>gestern eine Festsitzung statt. Direktor\\nSchw...</td>\n",
       "    </tr>\n",
       "    <tr>\n",
       "      <td>2</td>\n",
       "      <td>arbeiter_zeitung_aze19131231_article_196</td>\n",
       "      <td>de</td>\n",
       "      <td>1913-12-31T00:00:00Z</td>\n",
       "      <td>arbeiter_zeitung</td>\n",
       "      <td>https://platform.newseye.eu/iiif/arbeiter_zeit...</td>\n",
       "      <td>Der Portier eines Leopoldstädter Hotels gab al...</td>\n",
       "    </tr>\n",
       "    <tr>\n",
       "      <td>3</td>\n",
       "      <td>illustrierte_kronen_zeitung_krz19131129_articl...</td>\n",
       "      <td>de</td>\n",
       "      <td>1913-11-29T00:00:00Z</td>\n",
       "      <td>illustrierte_kronen_zeitung</td>\n",
       "      <td>https://platform.newseye.eu/iiif/illustrierte_...</td>\n",
       "      <td>In Krakau befinden sich noch etwa fünfzig Ausw...</td>\n",
       "    </tr>\n",
       "    <tr>\n",
       "      <td>4</td>\n",
       "      <td>illustrierte_kronen_zeitung_krz19390610_articl...</td>\n",
       "      <td>de</td>\n",
       "      <td>1939-06-10T00:00:00Z</td>\n",
       "      <td>illustrierte_kronen_zeitung</td>\n",
       "      <td>https://platform.newseye.eu/iiif/illustrierte_...</td>\n",
       "      <td>Beförderung\\nvon Auswanderer- Umzugsgütern\\nis...</td>\n",
       "    </tr>\n",
       "  </tbody>\n",
       "</table>\n",
       "</div>"
      ],
      "text/plain": [
       "                                                  id language  \\\n",
       "0  illustrierte_kronen_zeitung_krz19131101_articl...       de   \n",
       "1  illustrierte_kronen_zeitung_krz19331108_articl...       de   \n",
       "2           arbeiter_zeitung_aze19131231_article_196       de   \n",
       "3  illustrierte_kronen_zeitung_krz19131129_articl...       de   \n",
       "4  illustrierte_kronen_zeitung_krz19390610_articl...       de   \n",
       "\n",
       "                   date                 newspaper_id  \\\n",
       "0  1913-11-01T00:00:00Z  illustrierte_kronen_zeitung   \n",
       "1  1933-11-08T00:00:00Z  illustrierte_kronen_zeitung   \n",
       "2  1913-12-31T00:00:00Z             arbeiter_zeitung   \n",
       "3  1913-11-29T00:00:00Z  illustrierte_kronen_zeitung   \n",
       "4  1939-06-10T00:00:00Z  illustrierte_kronen_zeitung   \n",
       "\n",
       "                                            iiif_url  \\\n",
       "0  https://platform.newseye.eu/iiif/illustrierte_...   \n",
       "1  https://platform.newseye.eu/iiif/illustrierte_...   \n",
       "2  https://platform.newseye.eu/iiif/arbeiter_zeit...   \n",
       "3  https://platform.newseye.eu/iiif/illustrierte_...   \n",
       "4  https://platform.newseye.eu/iiif/illustrierte_...   \n",
       "\n",
       "                                                text  \n",
       "0  (Angehaltene Auswanderer.) In Prag wurden\\nges...  \n",
       "1  gestern eine Festsitzung statt. Direktor\\nSchw...  \n",
       "2  Der Portier eines Leopoldstädter Hotels gab al...  \n",
       "3  In Krakau befinden sich noch etwa fünfzig Ausw...  \n",
       "4  Beförderung\\nvon Auswanderer- Umzugsgütern\\nis...  "
      ]
     },
     "execution_count": 41,
     "metadata": {},
     "output_type": "execute_result"
    }
   ],
   "source": [
    "df_all.head()"
   ]
  },
  {
   "cell_type": "code",
   "execution_count": 42,
   "metadata": {},
   "outputs": [
    {
     "data": {
      "text/html": [
       "<div>\n",
       "<style scoped>\n",
       "    .dataframe tbody tr th:only-of-type {\n",
       "        vertical-align: middle;\n",
       "    }\n",
       "\n",
       "    .dataframe tbody tr th {\n",
       "        vertical-align: top;\n",
       "    }\n",
       "\n",
       "    .dataframe thead th {\n",
       "        text-align: right;\n",
       "    }\n",
       "</style>\n",
       "<table border=\"1\" class=\"dataframe\">\n",
       "  <thead>\n",
       "    <tr style=\"text-align: right;\">\n",
       "      <th></th>\n",
       "      <th>id</th>\n",
       "      <th>language</th>\n",
       "      <th>date</th>\n",
       "      <th>newspaper_id</th>\n",
       "      <th>iiif_url</th>\n",
       "      <th>text</th>\n",
       "    </tr>\n",
       "  </thead>\n",
       "  <tbody>\n",
       "    <tr>\n",
       "      <td>0</td>\n",
       "      <td>neue_freie_presse_nfp19360201_article_234</td>\n",
       "      <td>de</td>\n",
       "      <td>1936-02-01T00:00:00Z</td>\n",
       "      <td>neue_freie_presse</td>\n",
       "      <td>https://platform.newseye.eu/iiif/neue_freie_pr...</td>\n",
       "      <td>Auswanderer.</td>\n",
       "    </tr>\n",
       "    <tr>\n",
       "      <td>1</td>\n",
       "      <td>arbeiter_zeitung_aze18951112_article_136</td>\n",
       "      <td>de</td>\n",
       "      <td>1895-11-12T00:00:00Z</td>\n",
       "      <td>arbeiter_zeitung</td>\n",
       "      <td>https://platform.newseye.eu/iiif/arbeiter_zeit...</td>\n",
       "      <td>(Das Mißgeschick eines Auswanderers.) Das Ausw...</td>\n",
       "    </tr>\n",
       "    <tr>\n",
       "      <td>2</td>\n",
       "      <td>neue_freie_presse_nfp19110323_article_5702</td>\n",
       "      <td>de</td>\n",
       "      <td>1911-03-23T00:00:00Z</td>\n",
       "      <td>neue_freie_presse</td>\n",
       "      <td>https://platform.newseye.eu/iiif/neue_freie_pr...</td>\n",
       "      <td>stände, der verbrecherischen Ausbeutung der Be...</td>\n",
       "    </tr>\n",
       "    <tr>\n",
       "      <td>3</td>\n",
       "      <td>illustrierte_kronen_zeitung_krz19130305_articl...</td>\n",
       "      <td>de</td>\n",
       "      <td>1913-03-05T00:00:00Z</td>\n",
       "      <td>illustrierte_kronen_zeitung</td>\n",
       "      <td>https://platform.newseye.eu/iiif/illustrierte_...</td>\n",
       "      <td>J. F., Heumühlgasse.\\nPesen Sie die Artikel\\n...</td>\n",
       "    </tr>\n",
       "    <tr>\n",
       "      <td>4</td>\n",
       "      <td>innsbrucker_nachrichten_ibn19140513_article_46</td>\n",
       "      <td>de</td>\n",
       "      <td>1914-05-13T00:00:00Z</td>\n",
       "      <td>innsbrucker_nachrichten</td>\n",
       "      <td>https://platform.newseye.eu/iiif/innsbrucker_n...</td>\n",
       "      <td>Im „Auswanderer“=Expreß.</td>\n",
       "    </tr>\n",
       "  </tbody>\n",
       "</table>\n",
       "</div>"
      ],
      "text/plain": [
       "                                                  id language  \\\n",
       "0          neue_freie_presse_nfp19360201_article_234       de   \n",
       "1           arbeiter_zeitung_aze18951112_article_136       de   \n",
       "2         neue_freie_presse_nfp19110323_article_5702       de   \n",
       "3  illustrierte_kronen_zeitung_krz19130305_articl...       de   \n",
       "4     innsbrucker_nachrichten_ibn19140513_article_46       de   \n",
       "\n",
       "                   date                 newspaper_id  \\\n",
       "0  1936-02-01T00:00:00Z            neue_freie_presse   \n",
       "1  1895-11-12T00:00:00Z             arbeiter_zeitung   \n",
       "2  1911-03-23T00:00:00Z            neue_freie_presse   \n",
       "3  1913-03-05T00:00:00Z  illustrierte_kronen_zeitung   \n",
       "4  1914-05-13T00:00:00Z      innsbrucker_nachrichten   \n",
       "\n",
       "                                            iiif_url  \\\n",
       "0  https://platform.newseye.eu/iiif/neue_freie_pr...   \n",
       "1  https://platform.newseye.eu/iiif/arbeiter_zeit...   \n",
       "2  https://platform.newseye.eu/iiif/neue_freie_pr...   \n",
       "3  https://platform.newseye.eu/iiif/illustrierte_...   \n",
       "4  https://platform.newseye.eu/iiif/innsbrucker_n...   \n",
       "\n",
       "                                                text  \n",
       "0                                       Auswanderer.  \n",
       "1  (Das Mißgeschick eines Auswanderers.) Das Ausw...  \n",
       "2  stände, der verbrecherischen Ausbeutung der Be...  \n",
       "3   J. F., Heumühlgasse.\\nPesen Sie die Artikel\\n...  \n",
       "4                           Im „Auswanderer“=Expreß.  "
      ]
     },
     "execution_count": 42,
     "metadata": {},
     "output_type": "execute_result"
    }
   ],
   "source": [
    "df_all = df_all[df_all['text'].map(type) == str]\n",
    "df_all.dropna(axis=0, inplace=True, subset=['text'])\n",
    "# shuffle the data\n",
    "df_all = df_all.sample(frac=1.0)\n",
    "df_all.reset_index(drop=True,inplace=True)\n",
    "df_all.head()"
   ]
  },
  {
   "cell_type": "markdown",
   "metadata": {},
   "source": [
    "## Clean (pre-process) your whole collection <a class=\"anchor\" id=\"18-bullet\"></a>\n",
    "\n",
    "You repeat the same steps you did with your training and testing corpus"
   ]
  },
  {
   "cell_type": "code",
   "execution_count": 43,
   "metadata": {},
   "outputs": [],
   "source": [
    "df_all['tokenized'] = df_all['text'].apply(apply_all) "
   ]
  },
  {
   "cell_type": "code",
   "execution_count": 44,
   "metadata": {},
   "outputs": [
    {
     "data": {
      "text/plain": [
       "'The number of unique words is 8000'"
      ]
     },
     "execution_count": 44,
     "metadata": {},
     "output_type": "execute_result"
    }
   ],
   "source": [
    "# first get a list of all words\n",
    "all_words = [word for item in list(df_all['tokenized']) for word in item]\n",
    "# use nltk fdist to get a frequency distribution of all words\n",
    "fdist = FreqDist(all_words)\n",
    "f\"The number of unique words is {len(fdist)}\""
   ]
  },
  {
   "cell_type": "markdown",
   "metadata": {},
   "source": [
    "### Again, have a look at your data and remove articles that are shorter than 5 tokens\n",
    "\n",
    "Check out, if everything went alright so for. See the number of words and their frequency distribution."
   ]
  },
  {
   "cell_type": "code",
   "execution_count": 45,
   "metadata": {},
   "outputs": [
    {
     "name": "stdout",
     "output_type": "stream",
     "text": [
      "length of list: 1004\n",
      "average document length: 19.554780876494025\n",
      "minimum document length: 0\n",
      "maximum document length: 230\n"
     ]
    }
   ],
   "source": [
    "#document length\n",
    "df_all['doc_len'] = df_all['tokenized'].apply(lambda x: len(x))\n",
    "doc_lengths = list(df_all['doc_len'])\n",
    "df_all.drop(labels='doc_len', axis=1, inplace=True)\n",
    "\n",
    "\n",
    "print(f\"length of list: {len(doc_lengths)}\")\n",
    "print(f\"average document length: {np.average(doc_lengths)}\")\n",
    "print(f\"minimum document length: {min(doc_lengths)}\")\n",
    "print(f\"maximum document length: {max(doc_lengths)}\")"
   ]
  },
  {
   "cell_type": "code",
   "execution_count": 46,
   "metadata": {},
   "outputs": [
    {
     "name": "stdout",
     "output_type": "stream",
     "text": [
      "After cleaning and excluding short aticles, the dataframe now has: 790 articles\n",
      "After cleaning and excluding short aticles, the dataframe now has: 790 articles\n"
     ]
    }
   ],
   "source": [
    "df_all = df_all[df_all['tokenized'].map(len) >= 5]\n",
    "df_all = df_all[df_all['tokenized'].map(type) == list]\n",
    "df_all.reset_index(drop=True,inplace=True)\n",
    "print(\"After cleaning and excluding short aticles, the dataframe now has:\", len(df_all), \"articles\")\n",
    "\n",
    "df_all_2 = df_all[df_all['tokenized'].map(len) >= 5]\n",
    "df_all_2 = df_all[df_all['tokenized'].map(type) == list]\n",
    "df_all_2.reset_index(drop=True,inplace=True)\n",
    "print(\"After cleaning and excluding short aticles, the dataframe now has:\", len(df_all), \"articles\")"
   ]
  },
  {
   "cell_type": "markdown",
   "metadata": {},
   "source": [
    "#### Make a BOW (bag of words) for every document and get feature vectores for your whole collection"
   ]
  },
  {
   "cell_type": "code",
   "execution_count": 47,
   "metadata": {},
   "outputs": [],
   "source": [
    "def document_to_bow(df):\n",
    "    df['bow'] = list(map(lambda doc: dictionary.doc2bow(doc), df_all['tokenized']))\n",
    "    \n",
    "document_to_bow(df_all)"
   ]
  },
  {
   "cell_type": "code",
   "execution_count": 48,
   "metadata": {},
   "outputs": [],
   "source": [
    "df_all['lda_features'] = list(map(lambda doc:\n",
    "                                     document_to_lda_features(lda, doc),\n",
    "                                     df_all.bow))"
   ]
  },
  {
   "cell_type": "code",
   "execution_count": 49,
   "metadata": {},
   "outputs": [],
   "source": [
    "X_all_lda = np.array(list(map(np.array, df_all.lda_features)))"
   ]
  },
  {
   "cell_type": "markdown",
   "metadata": {},
   "source": [
    "## Now it is time to make the classifications for the whole collection <a class=\"anchor\" id=\"19-bullet\"></a>"
   ]
  },
  {
   "cell_type": "code",
   "execution_count": 50,
   "metadata": {},
   "outputs": [],
   "source": [
    "submission_predictions = best_lr_lda.predict_proba(X_all_lda)"
   ]
  },
  {
   "cell_type": "markdown",
   "metadata": {},
   "source": [
    "In order to be able to create two different dataframes, one with the results per category to check the outcome [57] and one put the results in the form of your orginal file [61], two different submission data frames are being created. "
   ]
  },
  {
   "cell_type": "code",
   "execution_count": 51,
   "metadata": {},
   "outputs": [],
   "source": [
    "result= np.append(df_all.text.values.reshape(-1,1), submission_predictions, axis=1)\n"
   ]
  },
  {
   "cell_type": "code",
   "execution_count": 52,
   "metadata": {},
   "outputs": [],
   "source": [
    "result_2= np.append(df_all_2, submission_predictions, axis=1)"
   ]
  },
  {
   "cell_type": "code",
   "execution_count": 53,
   "metadata": {},
   "outputs": [],
   "source": [
    "submission_df_all = pd.DataFrame(data=result, columns=['text', 'ads', 'news', 'culture', 'appeals', 'crime', 'finance', 'statistic'])\n",
    "submission_df_all_2 = pd.DataFrame(data=result_2, columns=['id','language','date','newspaper_id','iiif_url','text', 'token', 'ads', 'news', 'culture', 'appeals', 'crime', 'finance', 'statistic'])"
   ]
  },
  {
   "cell_type": "code",
   "execution_count": 54,
   "metadata": {},
   "outputs": [
    {
     "data": {
      "text/html": [
       "<div>\n",
       "<style scoped>\n",
       "    .dataframe tbody tr th:only-of-type {\n",
       "        vertical-align: middle;\n",
       "    }\n",
       "\n",
       "    .dataframe tbody tr th {\n",
       "        vertical-align: top;\n",
       "    }\n",
       "\n",
       "    .dataframe thead th {\n",
       "        text-align: right;\n",
       "    }\n",
       "</style>\n",
       "<table border=\"1\" class=\"dataframe\">\n",
       "  <thead>\n",
       "    <tr style=\"text-align: right;\">\n",
       "      <th></th>\n",
       "      <th>text</th>\n",
       "      <th>ads</th>\n",
       "      <th>news</th>\n",
       "      <th>culture</th>\n",
       "      <th>appeals</th>\n",
       "      <th>crime</th>\n",
       "      <th>finance</th>\n",
       "      <th>statistic</th>\n",
       "    </tr>\n",
       "  </thead>\n",
       "  <tbody>\n",
       "    <tr>\n",
       "      <td>0</td>\n",
       "      <td>(Das Mißgeschick eines Auswanderers.) Das Ausw...</td>\n",
       "      <td>0.150667</td>\n",
       "      <td>0.137891</td>\n",
       "      <td>0.190087</td>\n",
       "      <td>0.0988947</td>\n",
       "      <td>0.168834</td>\n",
       "      <td>0.129113</td>\n",
       "      <td>0.124514</td>\n",
       "    </tr>\n",
       "    <tr>\n",
       "      <td>1</td>\n",
       "      <td>stände, der verbrecherischen Ausbeutung der Be...</td>\n",
       "      <td>0.151804</td>\n",
       "      <td>0.161488</td>\n",
       "      <td>0.137151</td>\n",
       "      <td>0.116187</td>\n",
       "      <td>0.137429</td>\n",
       "      <td>0.150822</td>\n",
       "      <td>0.145119</td>\n",
       "    </tr>\n",
       "    <tr>\n",
       "      <td>2</td>\n",
       "      <td>J. F., Heumühlgasse.\\nPesen Sie die Artikel\\n...</td>\n",
       "      <td>0.170609</td>\n",
       "      <td>0.134676</td>\n",
       "      <td>0.158162</td>\n",
       "      <td>0.107273</td>\n",
       "      <td>0.132871</td>\n",
       "      <td>0.141914</td>\n",
       "      <td>0.154495</td>\n",
       "    </tr>\n",
       "    <tr>\n",
       "      <td>3</td>\n",
       "      <td>Mit ihm nächtigte ein Auswanderer, der aus de\\...</td>\n",
       "      <td>0.144074</td>\n",
       "      <td>0.193341</td>\n",
       "      <td>0.131318</td>\n",
       "      <td>0.0992746</td>\n",
       "      <td>0.153244</td>\n",
       "      <td>0.137087</td>\n",
       "      <td>0.141662</td>\n",
       "    </tr>\n",
       "    <tr>\n",
       "      <td>4</td>\n",
       "      <td>[Jüdische Auswanderer.] Aus Galatz wird uns\\nb...</td>\n",
       "      <td>0.109733</td>\n",
       "      <td>0.214614</td>\n",
       "      <td>0.144986</td>\n",
       "      <td>0.0877745</td>\n",
       "      <td>0.148361</td>\n",
       "      <td>0.115522</td>\n",
       "      <td>0.179009</td>\n",
       "    </tr>\n",
       "  </tbody>\n",
       "</table>\n",
       "</div>"
      ],
      "text/plain": [
       "                                                text       ads      news  \\\n",
       "0  (Das Mißgeschick eines Auswanderers.) Das Ausw...  0.150667  0.137891   \n",
       "1  stände, der verbrecherischen Ausbeutung der Be...  0.151804  0.161488   \n",
       "2   J. F., Heumühlgasse.\\nPesen Sie die Artikel\\n...  0.170609  0.134676   \n",
       "3  Mit ihm nächtigte ein Auswanderer, der aus de\\...  0.144074  0.193341   \n",
       "4  [Jüdische Auswanderer.] Aus Galatz wird uns\\nb...  0.109733  0.214614   \n",
       "\n",
       "    culture    appeals     crime   finance statistic  \n",
       "0  0.190087  0.0988947  0.168834  0.129113  0.124514  \n",
       "1  0.137151   0.116187  0.137429  0.150822  0.145119  \n",
       "2  0.158162   0.107273  0.132871  0.141914  0.154495  \n",
       "3  0.131318  0.0992746  0.153244  0.137087  0.141662  \n",
       "4  0.144986  0.0877745  0.148361  0.115522  0.179009  "
      ]
     },
     "execution_count": 54,
     "metadata": {},
     "output_type": "execute_result"
    }
   ],
   "source": [
    "submission_df_all.head(5)"
   ]
  },
  {
   "cell_type": "markdown",
   "metadata": {},
   "source": [
    "## Create a dataframe and export as excel to check the results <a class=\"anchor\" id=\"20-bullet\"></a>"
   ]
  },
  {
   "cell_type": "code",
   "execution_count": 55,
   "metadata": {},
   "outputs": [],
   "source": [
    "max_num = submission_df_all.loc[:, submission_df_all.columns != 'text'].max(axis=1)"
   ]
  },
  {
   "cell_type": "code",
   "execution_count": 56,
   "metadata": {},
   "outputs": [],
   "source": [
    "ads = submission_df_all[['text']][submission_df_all['ads'].isin(max_num)]\n",
    "news = submission_df_all[['text']][submission_df_all['news'].isin(max_num)]\n",
    "culture = submission_df_all[['text']][submission_df_all['culture'].isin(max_num)]\n",
    "appeals = submission_df_all[['text']][submission_df_all['appeals'].isin(max_num)]\n",
    "crime = submission_df_all[['text']][submission_df_all['crime'].isin(max_num)]\n",
    "finance = submission_df_all[['text']][submission_df_all['finance'].isin(max_num)]\n",
    "statistic = submission_df_all[['text']][submission_df_all['statistic'].isin(max_num)]"
   ]
  },
  {
   "cell_type": "code",
   "execution_count": 57,
   "metadata": {},
   "outputs": [
    {
     "data": {
      "text/html": [
       "<div>\n",
       "<style scoped>\n",
       "    .dataframe tbody tr th:only-of-type {\n",
       "        vertical-align: middle;\n",
       "    }\n",
       "\n",
       "    .dataframe tbody tr th {\n",
       "        vertical-align: top;\n",
       "    }\n",
       "\n",
       "    .dataframe thead th {\n",
       "        text-align: right;\n",
       "    }\n",
       "</style>\n",
       "<table border=\"1\" class=\"dataframe\">\n",
       "  <thead>\n",
       "    <tr style=\"text-align: right;\">\n",
       "      <th></th>\n",
       "      <th>Ads</th>\n",
       "      <th>News</th>\n",
       "      <th>Culture_Literatur</th>\n",
       "      <th>Appeals_Donations</th>\n",
       "      <th>Crime</th>\n",
       "      <th>Finance</th>\n",
       "      <th>Statistic</th>\n",
       "    </tr>\n",
       "  </thead>\n",
       "  <tbody>\n",
       "    <tr>\n",
       "      <td>40</td>\n",
       "      <td>[Auswanderer nach Rußland.] Auch vorgestern si...</td>\n",
       "      <td>Der Zug, in dem die Auswanderer untergebracht\\...</td>\n",
       "      <td>Auswanderer sucht Ehebekanntschaft mit jungem,...</td>\n",
       "      <td>Die rumänischen Auswanderer.\\nSchwer und Genos...</td>\n",
       "      <td>(Auswanderer.) Heute früh sind aus\\nAmerika 25...</td>\n",
       "      <td>St., sehr rasche Me= Isch\\nde für Auswanderer....</td>\n",
       "      <td>Der Hauptstrom dieser Auswanderer fließt\\nins ...</td>\n",
       "    </tr>\n",
       "    <tr>\n",
       "      <td>41</td>\n",
       "      <td>Arbeitskundige Frau sucht\\nAnschluß an ebensol...</td>\n",
       "      <td>Wenn Auswanderer, niedergeschmettert von ihren...</td>\n",
       "      <td>Triest, 5. April. Die Canada=Pacifiebahn\\nhat ...</td>\n",
       "      <td>(Auswan derer Schicksal.) Am Sams\\ntag sind au...</td>\n",
       "      <td>Für viele unserer Auswanderer galt es nur, une...</td>\n",
       "      <td>Abg. Dr. Ellenbogen setzte, hilug den Gegensta...</td>\n",
       "      <td>Die Teilung der Beute.\\nNach dem bisherigen Ka...</td>\n",
       "    </tr>\n",
       "    <tr>\n",
       "      <td>42</td>\n",
       "      <td>sch, Ungarisch, Tschechif\\npanischer und portu...</td>\n",
       "      <td>Petersburg, 4. Juni. Nowosti melden: Das in\\nT...</td>\n",
       "      <td>überall dort verschwinden, wo sie keine wirtsc...</td>\n",
       "      <td>der österreichischen Auskunftsstelle fur Auswa...</td>\n",
       "      <td>für volig halt. De die Nicbdellande Magpelten ...</td>\n",
       "      <td>hnen in Kurzt für Auswanderer. schul\\n„45 RM 5...</td>\n",
       "      <td>Sektionschef Riedl (fortfahrend): Als ich die ...</td>\n",
       "    </tr>\n",
       "    <tr>\n",
       "      <td>43</td>\n",
       "      <td>furse für Französisch,\\nItalienisch, Ungarisch...</td>\n",
       "      <td>alleiniger Inhaberd. „deutsch=amerikanischen\\n...</td>\n",
       "      <td>(Für Auswanderer.) Heute 7 Uhr abends\\nspricht...</td>\n",
       "      <td>In Ihrem und im Interesse Ihrer Landsleute bit...</td>\n",
       "      <td>nisonierenden 66. Infanterie=Regiment für eine...</td>\n",
       "      <td>österreichischen Auswanderer, der bis jetzt üb...</td>\n",
       "      <td>Auswanderer\\nerfragen\\nTransportofferte\\nfür E...</td>\n",
       "    </tr>\n",
       "    <tr>\n",
       "      <td>44</td>\n",
       "      <td>? „Aengstlich“: Wir möchten Ihnen von der Ausf...</td>\n",
       "      <td>Die Regierung wird stricte Neutralität in der ...</td>\n",
       "      <td>(Szenen in einem Auswanderer\\nzug.) In einem A...</td>\n",
       "      <td>Spenden.\\nFür die armen rumänischen Auswandere...</td>\n",
       "      <td>(Angehaltene Auswanderer.) In Prag wurden\\nges...</td>\n",
       "      <td>Der Kampf um die Auswanderer.\\nTriest, 1. März...</td>\n",
       "      <td>[Auswanderer.] Vorgestern Abends haben wieder ...</td>\n",
       "    </tr>\n",
       "  </tbody>\n",
       "</table>\n",
       "</div>"
      ],
      "text/plain": [
       "                                                  Ads  \\\n",
       "40  [Auswanderer nach Rußland.] Auch vorgestern si...   \n",
       "41  Arbeitskundige Frau sucht\\nAnschluß an ebensol...   \n",
       "42  sch, Ungarisch, Tschechif\\npanischer und portu...   \n",
       "43  furse für Französisch,\\nItalienisch, Ungarisch...   \n",
       "44  ? „Aengstlich“: Wir möchten Ihnen von der Ausf...   \n",
       "\n",
       "                                                 News  \\\n",
       "40  Der Zug, in dem die Auswanderer untergebracht\\...   \n",
       "41  Wenn Auswanderer, niedergeschmettert von ihren...   \n",
       "42  Petersburg, 4. Juni. Nowosti melden: Das in\\nT...   \n",
       "43  alleiniger Inhaberd. „deutsch=amerikanischen\\n...   \n",
       "44  Die Regierung wird stricte Neutralität in der ...   \n",
       "\n",
       "                                    Culture_Literatur  \\\n",
       "40  Auswanderer sucht Ehebekanntschaft mit jungem,...   \n",
       "41  Triest, 5. April. Die Canada=Pacifiebahn\\nhat ...   \n",
       "42  überall dort verschwinden, wo sie keine wirtsc...   \n",
       "43  (Für Auswanderer.) Heute 7 Uhr abends\\nspricht...   \n",
       "44  (Szenen in einem Auswanderer\\nzug.) In einem A...   \n",
       "\n",
       "                                    Appeals_Donations  \\\n",
       "40  Die rumänischen Auswanderer.\\nSchwer und Genos...   \n",
       "41  (Auswan derer Schicksal.) Am Sams\\ntag sind au...   \n",
       "42  der österreichischen Auskunftsstelle fur Auswa...   \n",
       "43  In Ihrem und im Interesse Ihrer Landsleute bit...   \n",
       "44  Spenden.\\nFür die armen rumänischen Auswandere...   \n",
       "\n",
       "                                                Crime  \\\n",
       "40  (Auswanderer.) Heute früh sind aus\\nAmerika 25...   \n",
       "41  Für viele unserer Auswanderer galt es nur, une...   \n",
       "42  für volig halt. De die Nicbdellande Magpelten ...   \n",
       "43  nisonierenden 66. Infanterie=Regiment für eine...   \n",
       "44  (Angehaltene Auswanderer.) In Prag wurden\\nges...   \n",
       "\n",
       "                                              Finance  \\\n",
       "40  St., sehr rasche Me= Isch\\nde für Auswanderer....   \n",
       "41  Abg. Dr. Ellenbogen setzte, hilug den Gegensta...   \n",
       "42  hnen in Kurzt für Auswanderer. schul\\n„45 RM 5...   \n",
       "43  österreichischen Auswanderer, der bis jetzt üb...   \n",
       "44  Der Kampf um die Auswanderer.\\nTriest, 1. März...   \n",
       "\n",
       "                                            Statistic  \n",
       "40  Der Hauptstrom dieser Auswanderer fließt\\nins ...  \n",
       "41  Die Teilung der Beute.\\nNach dem bisherigen Ka...  \n",
       "42  Sektionschef Riedl (fortfahrend): Als ich die ...  \n",
       "43  Auswanderer\\nerfragen\\nTransportofferte\\nfür E...  \n",
       "44  [Auswanderer.] Vorgestern Abends haben wieder ...  "
      ]
     },
     "execution_count": 57,
     "metadata": {},
     "output_type": "execute_result"
    }
   ],
   "source": [
    "#transform your lists into a dataframe\n",
    "\n",
    "df_ads = pd.DataFrame(np.column_stack([ads]), \n",
    "                               columns=['Ads'])\n",
    "\n",
    "\n",
    "df_news = pd.DataFrame(np.column_stack([news]), \n",
    "                               columns=['News'])\n",
    "\n",
    "df_culture = pd.DataFrame(np.column_stack([culture]), \n",
    "                               columns=['Culture_Literature'])\n",
    "\n",
    "df_appeals = pd.DataFrame(np.column_stack([appeals]), \n",
    "                               columns=['Appeals_Donations'])\n",
    "\n",
    "df_crime = pd.DataFrame(np.column_stack([crime]), \n",
    "                               columns=['Crime'])\n",
    "\n",
    "\n",
    "\n",
    "df_finance = pd.DataFrame(np.column_stack([finance]), \n",
    "                               columns=['Finance'])\n",
    "\n",
    "df_statistic = pd.DataFrame(np.column_stack([statistic]), \n",
    "                               columns=['Statistic'])\n",
    "\n",
    "df_results = pd.concat([df_ads, df_news, df_culture, df_appeals, df_crime, df_finance, df_statistic], ignore_index=True, axis=1)\n",
    "df_results.columns=['Ads','News', 'Culture_Literatur', 'Appeals_Donations', 'Crime', 'Finance', 'Statistic']\n",
    "df_results[40:45]"
   ]
  },
  {
   "cell_type": "code",
   "execution_count": 58,
   "metadata": {},
   "outputs": [],
   "source": [
    "df_results.to_excel(\"results_auswanderung_.xlsx\") "
   ]
  },
  {
   "cell_type": "markdown",
   "metadata": {},
   "source": [
    "## If you are satisfied with the results, you can save them in the form of your original file <a class=\"anchor\" id=\"21-bullet\"></a>\n",
    "\n",
    "Otherwise, try to repeat the process"
   ]
  },
  {
   "cell_type": "code",
   "execution_count": 59,
   "metadata": {},
   "outputs": [],
   "source": [
    "date_ads = []\n",
    "ads = submission_df_all_2[['id','language','date','newspaper_id','iiif_url','text']][submission_df_all['ads'].isin(max_num)]\n",
    "date = submission_df_all_2['date'][submission_df_all['ads'].isin(max_num)]\n",
    "for key in date: \n",
    "    date_ads.append(key[:4])\n",
    "for i in range(0, len(date_ads)): \n",
    "    date_ads[i] = int(date_ads[i]) \n",
    "news = submission_df_all_2[['id','language','date','newspaper_id','iiif_url','text']][submission_df_all['news'].isin(max_num)]\n",
    "date_news = []\n",
    "date = submission_df_all_2['date'][submission_df_all['news'].isin(max_num)]\n",
    "for key in date: \n",
    "    date_news.append(key[:4])\n",
    "for i in range(0, len(date_news)): \n",
    "    date_news[i] = int(date_news[i])\n",
    "culture = submission_df_all_2[['id','language','date','newspaper_id','iiif_url','text']][submission_df_all['culture'].isin(max_num)]\n",
    "date_culture = []\n",
    "date = submission_df_all_2['date'][submission_df_all['culture'].isin(max_num)]\n",
    "for key in date: \n",
    "    date_culture.append(key[:4])\n",
    "for i in range(0, len(date_culture)): \n",
    "    date_culture[i] = int(date_culture[i])\n",
    "appeals = submission_df_all_2[['id','language','date','newspaper_id','iiif_url','text']][submission_df_all['appeals'].isin(max_num)]\n",
    "date_appeals = []\n",
    "date = submission_df_all_2['date'][submission_df_all['appeals'].isin(max_num)]\n",
    "for key in date: \n",
    "    date_appeals.append(key[:4])\n",
    "for i in range(0, len(date_appeals)): \n",
    "    date_appeals[i] = int(date_appeals[i])\n",
    "crime = submission_df_all_2[['id','language','date','newspaper_id','iiif_url','text']][submission_df_all['crime'].isin(max_num)]\n",
    "date_crime = []\n",
    "date = submission_df_all_2['date'][submission_df_all['crime'].isin(max_num)]\n",
    "for key in date: \n",
    "    date_crime.append(key[:4])\n",
    "for i in range(0, len(date_crime)): \n",
    "    date_crime[i] = int(date_crime[i])\n",
    "finance = submission_df_all_2[['id','language','date','newspaper_id','iiif_url','text']][submission_df_all['finance'].isin(max_num)]\n",
    "date_finance = []\n",
    "date = submission_df_all_2['date'][submission_df_all['finance'].isin(max_num)]\n",
    "for key in date: \n",
    "    date_finance.append(key[:4])\n",
    "for i in range(0, len(date_finance)): \n",
    "    date_finance[i] = int(date_finance[i])\n",
    "statistic = submission_df_all_2[['id','language','date','newspaper_id','iiif_url','text']][submission_df_all['statistic'].isin(max_num)]\n",
    "date_statistic = []\n",
    "date = submission_df_all_2['date'][submission_df_all['statistic'].isin(max_num)]\n",
    "for key in date: \n",
    "    date_statistic.append(key[:4])\n",
    "for i in range(0, len(date_statistic)): \n",
    "    date_statistic[i] = int(date_statistic[i])"
   ]
  },
  {
   "cell_type": "code",
   "execution_count": 60,
   "metadata": {},
   "outputs": [],
   "source": [
    "#transform your lists into a dataframe\n",
    "\n",
    "df_ads = pd.DataFrame(np.column_stack([ads]), \n",
    "                               columns=['id','language','date','newspaper_id','iiif_url','text'])\n",
    "\n",
    "\n",
    "df_news = pd.DataFrame(np.column_stack([news]), \n",
    "                               columns=['id','language','date','newspaper_id','iiif_url','text'])\n",
    "\n",
    "df_culture = pd.DataFrame(np.column_stack([culture]), \n",
    "                               columns=['id','language','date','newspaper_id','iiif_url','text'])\n",
    "\n",
    "df_appeals = pd.DataFrame(np.column_stack([appeals]), \n",
    "                               columns=['id','language','date','newspaper_id','iiif_url','text'])\n",
    "\n",
    "df_crime = pd.DataFrame(np.column_stack([crime]), \n",
    "                               columns=['id','language','date','newspaper_id','iiif_url','text'])\n",
    "\n",
    "df_finance = pd.DataFrame(np.column_stack([finance]), \n",
    "                               columns=['id','language','date','newspaper_id','iiif_url','text'])\n",
    "\n",
    "df_statistic = pd.DataFrame(np.column_stack([statistic]), \n",
    "                               columns=['id','language','date','newspaper_id','iiif_url','text'])\n"
   ]
  },
  {
   "cell_type": "code",
   "execution_count": 61,
   "metadata": {},
   "outputs": [
    {
     "data": {
      "text/html": [
       "<div>\n",
       "<style scoped>\n",
       "    .dataframe tbody tr th:only-of-type {\n",
       "        vertical-align: middle;\n",
       "    }\n",
       "\n",
       "    .dataframe tbody tr th {\n",
       "        vertical-align: top;\n",
       "    }\n",
       "\n",
       "    .dataframe thead th {\n",
       "        text-align: right;\n",
       "    }\n",
       "</style>\n",
       "<table border=\"1\" class=\"dataframe\">\n",
       "  <thead>\n",
       "    <tr style=\"text-align: right;\">\n",
       "      <th></th>\n",
       "      <th>id</th>\n",
       "      <th>language</th>\n",
       "      <th>date</th>\n",
       "      <th>newspaper_id</th>\n",
       "      <th>iiif_url</th>\n",
       "      <th>text</th>\n",
       "    </tr>\n",
       "  </thead>\n",
       "  <tbody>\n",
       "    <tr>\n",
       "      <td>0</td>\n",
       "      <td>neue_freie_presse_nfp19110323_article_5702</td>\n",
       "      <td>de</td>\n",
       "      <td>1911-03-23T00:00:00Z</td>\n",
       "      <td>neue_freie_presse</td>\n",
       "      <td>https://platform.newseye.eu/iiif/neue_freie_pr...</td>\n",
       "      <td>stände, der verbrecherischen Ausbeutung der Be...</td>\n",
       "    </tr>\n",
       "    <tr>\n",
       "      <td>1</td>\n",
       "      <td>illustrierte_kronen_zeitung_krz19130525_articl...</td>\n",
       "      <td>de</td>\n",
       "      <td>1913-05-25T00:00:00Z</td>\n",
       "      <td>illustrierte_kronen_zeitung</td>\n",
       "      <td>https://platform.newseye.eu/iiif/illustrierte_...</td>\n",
       "      <td>Mit ihm nächtigte ein Auswanderer, der aus de\\...</td>\n",
       "    </tr>\n",
       "    <tr>\n",
       "      <td>2</td>\n",
       "      <td>neue_freie_presse_nfp19000703_article_249</td>\n",
       "      <td>de</td>\n",
       "      <td>1900-07-03T00:00:00Z</td>\n",
       "      <td>neue_freie_presse</td>\n",
       "      <td>https://platform.newseye.eu/iiif/neue_freie_pr...</td>\n",
       "      <td>[Jüdische Auswanderer.] Aus Galatz wird uns\\nb...</td>\n",
       "    </tr>\n",
       "    <tr>\n",
       "      <td>3</td>\n",
       "      <td>innsbrucker_nachrichten_ibn19110607_article_380</td>\n",
       "      <td>de</td>\n",
       "      <td>1911-06-07T00:00:00Z</td>\n",
       "      <td>innsbrucker_nachrichten</td>\n",
       "      <td>https://platform.newseye.eu/iiif/innsbrucker_n...</td>\n",
       "      <td>(Turistenunglück auf der Hohen Wand.)\\nAus Wie...</td>\n",
       "    </tr>\n",
       "    <tr>\n",
       "      <td>4</td>\n",
       "      <td>neue_freie_presse_nfp18730412_article_272</td>\n",
       "      <td>de</td>\n",
       "      <td>1873-04-12T00:00:00Z</td>\n",
       "      <td>neue_freie_presse</td>\n",
       "      <td>https://platform.newseye.eu/iiif/neue_freie_pr...</td>\n",
       "      <td>[Zum Untergang der „Atlantie“.] Einem KabelTel...</td>\n",
       "    </tr>\n",
       "    <tr>\n",
       "      <td>...</td>\n",
       "      <td>...</td>\n",
       "      <td>...</td>\n",
       "      <td>...</td>\n",
       "      <td>...</td>\n",
       "      <td>...</td>\n",
       "      <td>...</td>\n",
       "    </tr>\n",
       "    <tr>\n",
       "      <td>145</td>\n",
       "      <td>neue_freie_presse_nfp18670504_article_990</td>\n",
       "      <td>de</td>\n",
       "      <td>1867-05-04T00:00:00Z</td>\n",
       "      <td>neue_freie_presse</td>\n",
       "      <td>https://platform.newseye.eu/iiif/neue_freie_pr...</td>\n",
       "      <td>[Auswanderer.] Am Sonntag kamen, wie die Klgft...</td>\n",
       "    </tr>\n",
       "    <tr>\n",
       "      <td>146</td>\n",
       "      <td>neue_freie_presse_nfp19131205_article_1238</td>\n",
       "      <td>de</td>\n",
       "      <td>1913-12-05T00:00:00Z</td>\n",
       "      <td>neue_freie_presse</td>\n",
       "      <td>https://platform.newseye.eu/iiif/neue_freie_pr...</td>\n",
       "      <td>Der Poolvertrag ist in erster Reihe dazu besti...</td>\n",
       "    </tr>\n",
       "    <tr>\n",
       "      <td>147</td>\n",
       "      <td>neue_freie_presse_nfp19000802_article_211</td>\n",
       "      <td>de</td>\n",
       "      <td>1900-08-02T00:00:00Z</td>\n",
       "      <td>neue_freie_presse</td>\n",
       "      <td>https://platform.newseye.eu/iiif/neue_freie_pr...</td>\n",
       "      <td>[Die rumänischen Auswanderer.] Aus\\nBudapest w...</td>\n",
       "    </tr>\n",
       "    <tr>\n",
       "      <td>148</td>\n",
       "      <td>innsbrucker_nachrichten_ibn19120413_article_130</td>\n",
       "      <td>de</td>\n",
       "      <td>1912-04-13T00:00:00Z</td>\n",
       "      <td>innsbrucker_nachrichten</td>\n",
       "      <td>https://platform.newseye.eu/iiif/innsbrucker_n...</td>\n",
       "      <td>(Auswanderung.) Aus Höchst meldet man:\\nVor ku...</td>\n",
       "    </tr>\n",
       "    <tr>\n",
       "      <td>149</td>\n",
       "      <td>neue_freie_presse_nfp18710605_article_761</td>\n",
       "      <td>de</td>\n",
       "      <td>1871-06-05T00:00:00Z</td>\n",
       "      <td>neue_freie_presse</td>\n",
       "      <td>https://platform.newseye.eu/iiif/neue_freie_pr...</td>\n",
       "      <td>[Auswanderer.] Seit Sonntag voriger Woche sind...</td>\n",
       "    </tr>\n",
       "  </tbody>\n",
       "</table>\n",
       "<p>150 rows × 6 columns</p>\n",
       "</div>"
      ],
      "text/plain": [
       "                                                    id language  \\\n",
       "0           neue_freie_presse_nfp19110323_article_5702       de   \n",
       "1    illustrierte_kronen_zeitung_krz19130525_articl...       de   \n",
       "2            neue_freie_presse_nfp19000703_article_249       de   \n",
       "3      innsbrucker_nachrichten_ibn19110607_article_380       de   \n",
       "4            neue_freie_presse_nfp18730412_article_272       de   \n",
       "..                                                 ...      ...   \n",
       "145          neue_freie_presse_nfp18670504_article_990       de   \n",
       "146         neue_freie_presse_nfp19131205_article_1238       de   \n",
       "147          neue_freie_presse_nfp19000802_article_211       de   \n",
       "148    innsbrucker_nachrichten_ibn19120413_article_130       de   \n",
       "149          neue_freie_presse_nfp18710605_article_761       de   \n",
       "\n",
       "                     date                 newspaper_id  \\\n",
       "0    1911-03-23T00:00:00Z            neue_freie_presse   \n",
       "1    1913-05-25T00:00:00Z  illustrierte_kronen_zeitung   \n",
       "2    1900-07-03T00:00:00Z            neue_freie_presse   \n",
       "3    1911-06-07T00:00:00Z      innsbrucker_nachrichten   \n",
       "4    1873-04-12T00:00:00Z            neue_freie_presse   \n",
       "..                    ...                          ...   \n",
       "145  1867-05-04T00:00:00Z            neue_freie_presse   \n",
       "146  1913-12-05T00:00:00Z            neue_freie_presse   \n",
       "147  1900-08-02T00:00:00Z            neue_freie_presse   \n",
       "148  1912-04-13T00:00:00Z      innsbrucker_nachrichten   \n",
       "149  1871-06-05T00:00:00Z            neue_freie_presse   \n",
       "\n",
       "                                              iiif_url  \\\n",
       "0    https://platform.newseye.eu/iiif/neue_freie_pr...   \n",
       "1    https://platform.newseye.eu/iiif/illustrierte_...   \n",
       "2    https://platform.newseye.eu/iiif/neue_freie_pr...   \n",
       "3    https://platform.newseye.eu/iiif/innsbrucker_n...   \n",
       "4    https://platform.newseye.eu/iiif/neue_freie_pr...   \n",
       "..                                                 ...   \n",
       "145  https://platform.newseye.eu/iiif/neue_freie_pr...   \n",
       "146  https://platform.newseye.eu/iiif/neue_freie_pr...   \n",
       "147  https://platform.newseye.eu/iiif/neue_freie_pr...   \n",
       "148  https://platform.newseye.eu/iiif/innsbrucker_n...   \n",
       "149  https://platform.newseye.eu/iiif/neue_freie_pr...   \n",
       "\n",
       "                                                  text  \n",
       "0    stände, der verbrecherischen Ausbeutung der Be...  \n",
       "1    Mit ihm nächtigte ein Auswanderer, der aus de\\...  \n",
       "2    [Jüdische Auswanderer.] Aus Galatz wird uns\\nb...  \n",
       "3    (Turistenunglück auf der Hohen Wand.)\\nAus Wie...  \n",
       "4    [Zum Untergang der „Atlantie“.] Einem KabelTel...  \n",
       "..                                                 ...  \n",
       "145  [Auswanderer.] Am Sonntag kamen, wie die Klgft...  \n",
       "146  Der Poolvertrag ist in erster Reihe dazu besti...  \n",
       "147  [Die rumänischen Auswanderer.] Aus\\nBudapest w...  \n",
       "148  (Auswanderung.) Aus Höchst meldet man:\\nVor ku...  \n",
       "149  [Auswanderer.] Seit Sonntag voriger Woche sind...  \n",
       "\n",
       "[150 rows x 6 columns]"
      ]
     },
     "execution_count": 61,
     "metadata": {},
     "output_type": "execute_result"
    }
   ],
   "source": [
    "df_news"
   ]
  },
  {
   "cell_type": "code",
   "execution_count": 62,
   "metadata": {},
   "outputs": [],
   "source": [
    "df_news.to_csv('collection_news.csv')"
   ]
  },
  {
   "cell_type": "markdown",
   "metadata": {},
   "source": [
    "## Visualize your results <a class=\"anchor\" id=\"21-bullet\"></a>\n"
   ]
  },
  {
   "cell_type": "code",
   "execution_count": 63,
   "metadata": {},
   "outputs": [
    {
     "data": {
      "image/png": "[encoded data removed]",
      "text/plain": [
       "<Figure size 1368x504 with 1 Axes>"
      ]
     },
     "metadata": {},
     "output_type": "display_data"
    }
   ],
   "source": [
    "import matplotlib.pyplot as plt\n",
    "plt.figure(figsize=(19, 7))\n",
    "# Data to plot\n",
    "labels = 'Advertisement', 'News', 'Culture_Literature_Stories_Letters', 'Appeals_Donations_Information', 'Crime', 'Finance', 'Statistic'\n",
    "sizes = [len(ads), len(news), len(culture), len(appeals), len(crime), len(finance), len(statistic)]\n",
    "colors = ['gold', 'yellowgreen', 'lightcoral', 'lightskyblue', 'blueviolet', 'darkturquoise', 'sandybrown', 'pink']\n",
    "explode = (0, 0, 0, 0, 0, 0, 0)  # explode 1st slice\n",
    "\n",
    "# Plot\n",
    "plt.pie(sizes, explode=explode, labels=labels, colors=colors,\n",
    "autopct='%1.1f%%', shadow=True, startangle=14)\n",
    "\n",
    "plt.axis('equal')\n",
    "plt.show()"
   ]
  },
  {
   "cell_type": "markdown",
   "metadata": {},
   "source": [
    "### Create histograms using the date of the article clippings\n",
    "Find out which category was very popular at what time"
   ]
  },
  {
   "cell_type": "code",
   "execution_count": 64,
   "metadata": {},
   "outputs": [
    {
     "data": {
      "image/png": "[encoded data removed]",
      "text/plain": [
       "<Figure size 2160x360 with 2 Axes>"
      ]
     },
     "metadata": {
      "needs_background": "light"
     },
     "output_type": "display_data"
    },
    {
     "data": {
      "image/png": "[encoded data removed]",
      "text/plain": [
       "<Figure size 2160x360 with 2 Axes>"
      ]
     },
     "metadata": {
      "needs_background": "light"
     },
     "output_type": "display_data"
    },
    {
     "data": {
      "image/png": "[encoded data removed]",
      "text/plain": [
       "<Figure size 2160x360 with 2 Axes>"
      ]
     },
     "metadata": {
      "needs_background": "light"
     },
     "output_type": "display_data"
    },
    {
     "data": {
      "image/png": "[encoded data removed]",
      "text/plain": [
       "<Figure size 2160x360 with 1 Axes>"
      ]
     },
     "metadata": {
      "needs_background": "light"
     },
     "output_type": "display_data"
    }
   ],
   "source": [
    "import matplotlib.axes as ax\n",
    "plt.figure(figsize=(30, 5))\n",
    "\n",
    "plt.subplot(121)\n",
    "plt.hist(date_ads, color = 'gold', orientation=\"vertical\")\n",
    "plt.xlabel('Advertisements', size= 'x-large')\n",
    "plt.subplot(122)\n",
    "plt.hist(date_news, color = 'yellowgreen')\n",
    "plt.xlabel('News', size= 'x-large')\n",
    "plt.show()\n",
    "plt.figure(figsize=(30, 5))\n",
    "plt.subplot(121)\n",
    "plt.hist(date_culture, color = 'lightskyblue')\n",
    "plt.xlabel('Culture_Literature_Storie_Letters', size= 'x-large')\n",
    "plt.subplot(122)\n",
    "plt.hist(date_appeals, color = 'lightcoral')\n",
    "plt.xlabel('Appeals_Donations_Information', size= 'x-large')\n",
    "plt.show()\n",
    "plt.figure(figsize=(30, 5))\n",
    "plt.subplot(121)\n",
    "plt.hist(date_crime, color = 'sandybrown')\n",
    "plt.xlabel('Crime', size= 'x-large')\n",
    "plt.subplot(122)\n",
    "plt.hist(date_finance, color = 'pink')\n",
    "plt.xlabel('Finance', size= 'x-large')\n",
    "plt.figure(figsize=(30, 5))\n",
    "plt.hist(date_statistic, color = 'darkturquoise')\n",
    "plt.xlabel('Statistic', size= 'x-large')\n",
    "plt.show()\n",
    "\n"
   ]
  },
  {
   "cell_type": "code",
   "execution_count": null,
   "metadata": {},
   "outputs": [],
   "source": []
  },
  {
   "cell_type": "code",
   "execution_count": null,
   "metadata": {},
   "outputs": [],
   "source": []
  },
  {
   "cell_type": "code",
   "execution_count": null,
   "metadata": {},
   "outputs": [],
   "source": []
  },
  {
   "cell_type": "code",
   "execution_count": null,
   "metadata": {},
   "outputs": [],
   "source": []
  }
 ],
 "metadata": {
  "kernelspec": {
   "display_name": "Python 3",
   "language": "python",
   "name": "python3"
  },
  "language_info": {
   "codemirror_mode": {
    "name": "ipython",
    "version": 3
   },
   "file_extension": ".py",
   "mimetype": "text/x-python",
   "name": "python",
   "nbconvert_exporter": "python",
   "pygments_lexer": "ipython3",
   "version": "3.7.4"
  }
 },
 "nbformat": 4,
 "nbformat_minor": 4
}
